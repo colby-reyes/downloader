{
  "nbformat": 4,
  "nbformat_minor": 0,
  "metadata": {
    "colab": {
      "name": "web_scraper.ipynb",
      "provenance": [],
      "collapsed_sections": [],
      "authorship_tag": "ABX9TyPwO94dlWERXJqIHezIbGFQ",
      "include_colab_link": true
    },
    "kernelspec": {
      "name": "python3",
      "display_name": "Python 3"
    },
    "language_info": {
      "name": "python"
    }
  },
  "cells": [
    {
      "cell_type": "markdown",
      "metadata": {
        "id": "view-in-github",
        "colab_type": "text"
      },
      "source": [
        "<a href=\"https://colab.research.google.com/github/colby-reyes/downloader/blob/chromebook/web_scraper.ipynb\" target=\"_parent\"><img src=\"https://colab.research.google.com/assets/colab-badge.svg\" alt=\"Open In Colab\"/></a>"
      ]
    },
    {
      "cell_type": "code",
      "metadata": {
        "colab": {
          "base_uri": "https://localhost:8080/"
        },
        "id": "v6WxGVLcG5ba",
        "outputId": "5dd909eb-a0af-4135-c964-29f201be6255"
      },
      "source": [
        "pip install pytube"
      ],
      "execution_count": null,
      "outputs": [
        {
          "output_type": "stream",
          "name": "stdout",
          "text": [
            "Collecting pytube\n",
            "  Downloading pytube-11.0.1-py3-none-any.whl (56 kB)\n",
            "\u001b[?25l\r\u001b[K     |█████▉                          | 10 kB 22.5 MB/s eta 0:00:01\r\u001b[K     |███████████▋                    | 20 kB 26.8 MB/s eta 0:00:01\r\u001b[K     |█████████████████▌              | 30 kB 13.3 MB/s eta 0:00:01\r\u001b[K     |███████████████████████▎        | 40 kB 10.0 MB/s eta 0:00:01\r\u001b[K     |█████████████████████████████▏  | 51 kB 5.2 MB/s eta 0:00:01\r\u001b[K     |████████████████████████████████| 56 kB 2.2 MB/s \n",
            "\u001b[?25hInstalling collected packages: pytube\n",
            "Successfully installed pytube-11.0.1\n"
          ]
        }
      ]
    },
    {
      "cell_type": "code",
      "metadata": {
        "id": "zkn6yZWRSZuU"
      },
      "source": [
        "from pytube import YouTube"
      ],
      "execution_count": null,
      "outputs": []
    },
    {
      "cell_type": "code",
      "metadata": {
        "id": "4a2MreR0Su7Y"
      },
      "source": [
        "# misc\n",
        "import os\n",
        "import shutil\n",
        "import math\n",
        "import datetime\n",
        "# plots\n",
        "import matplotlib.pyplot as plt\n",
        "%matplotlib inline\n",
        "# image operation\n",
        "import cv2\n",
        "import pytube"
      ],
      "execution_count": null,
      "outputs": []
    },
    {
      "cell_type": "code",
      "metadata": {
        "colab": {
          "base_uri": "https://localhost:8080/",
          "height": 53
        },
        "id": "yr_RJVgkSyTy",
        "outputId": "501a971d-5400-456c-92db-23484f1b83ee"
      },
      "source": [
        "video_url = 'https://www.youtube.com/watch?v=YWhSQpUNGgY'\n",
        "# video.streams.filter(file_extension = \"mp4\").all()\n",
        "youtube = YouTube(video_url)\n",
        "video = youtube.streams.filter(only_audio=True).first()\n",
        "print(video)\n",
        "video.download(filename=\"Sticks_and_Stones.mp3\")\n",
        "# video.filesize"
      ],
      "execution_count": null,
      "outputs": [
        {
          "output_type": "stream",
          "name": "stdout",
          "text": [
            "<Stream: itag=\"139\" mime_type=\"audio/mp4\" abr=\"48kbps\" acodec=\"mp4a.40.5\" progressive=\"False\" type=\"audio\">\n"
          ]
        },
        {
          "output_type": "execute_result",
          "data": {
            "application/vnd.google.colaboratory.intrinsic+json": {
              "type": "string"
            },
            "text/plain": [
              "'/content/Sticks_and_Stones.mp3'"
            ]
          },
          "metadata": {},
          "execution_count": 17
        }
      ]
    },
    {
      "cell_type": "code",
      "metadata": {
        "colab": {
          "base_uri": "https://localhost:8080/"
        },
        "id": "kJaygkr5TKLC",
        "outputId": "0952931e-96f6-4812-f29c-398dbf8e8483"
      },
      "source": [
        "\"\"\"\n",
        "// Alternative Version //\n",
        "///// (not working) /////\n",
        "\"\"\"\n",
        "# import requests\n",
        "# file_url = \"https://www.youtube.com/watch?v=YWhSQpUNGgY\"\n",
        "# file_name = \"Sticks_Stones_KK.mp4\"\n",
        "\n",
        "# r = requests.get(file_url, stream = True)\n",
        "\n",
        "# # download started \n",
        "# with open(file_name, 'wb') as f: \n",
        "#     for chunk in r.iter_content(chunk_size = 1024*1024): \n",
        "#         if chunk: \n",
        "#             f.write(chunk) \n",
        "  \n",
        "# print( \"%s downloaded!\\n\"%file_name )"
      ],
      "execution_count": null,
      "outputs": [
        {
          "output_type": "stream",
          "text": [
            "Sticks_Stones_KK.mp4 downloaded!\n",
            "\n"
          ],
          "name": "stdout"
        }
      ]
    },
    {
      "cell_type": "markdown",
      "metadata": {
        "id": "NqE-ARTpcLj4"
      },
      "source": [
        "## Download Video"
      ]
    },
    {
      "cell_type": "markdown",
      "metadata": {
        "id": "Zi12yh0XeHg9"
      },
      "source": [
        "Import `YouTube` module from `pytube`"
      ]
    },
    {
      "cell_type": "code",
      "metadata": {
        "id": "UIe6vwzrW2Md"
      },
      "source": [
        "!pip install pytube\n",
        "from pytube import YouTube"
      ],
      "execution_count": null,
      "outputs": []
    },
    {
      "cell_type": "markdown",
      "metadata": {
        "id": "3_NEhmH5eM7I"
      },
      "source": [
        "Define download function"
      ]
    },
    {
      "cell_type": "code",
      "metadata": {
        "id": "fhO8ueGUW4pw"
      },
      "source": [
        "def download_video(youtube_url, song_title, file_path='.'):\n",
        "  video_filename = song_title + \".mp4\"\n",
        "  yt_obj = YouTube(youtube_url)\n",
        "  video = yt_obj.streams.first()\n",
        "  video.download(output_path=file_path, filename=video_filename)\n",
        "\n",
        "def download_audio(youtube_url, song_title, file_path='.'):\n",
        "  audio_filename = f\"{song_title}.mp3\"\n",
        "  yt_obj = YouTube(youtube_url)\n",
        "  audio = yt_obj.streams.filter(only_audio=True).first()\n",
        "  audio.download(output_path=file_path, filename=audio_filename)"
      ],
      "execution_count": null,
      "outputs": []
    },
    {
      "cell_type": "markdown",
      "metadata": {
        "id": "MMdNwDnEePCP"
      },
      "source": [
        "Test download function"
      ]
    },
    {
      "cell_type": "code",
      "metadata": {
        "id": "9C080eCnW518"
      },
      "source": [
        "youtube_video_url = 'https://www.youtube.com/watch?v=YWhSQpUNGgY'\n",
        "fname = \"Sticks_Stones\"\n",
        "\n",
        "download_audio(youtube_video_url, fname, file_path='./sample_data')"
      ],
      "execution_count": null,
      "outputs": []
    },
    {
      "cell_type": "markdown",
      "metadata": {
        "id": "yGRfhFsxeUDI"
      },
      "source": [
        "## Convert to MP3"
      ]
    },
    {
      "cell_type": "markdown",
      "metadata": {
        "id": "-u4j8ytEeZbu"
      },
      "source": [
        "Run `ffmpeg` with `os.system()` module"
      ]
    },
    {
      "cell_type": "code",
      "metadata": {
        "id": "CsAe6jkVa0Eb"
      },
      "source": [
        "def convert_to_audio(song_title, file_path='.')\n",
        "  vid = f'{song_title}.mp4'\n",
        "  audio = f'{song_title}.mp3'\n",
        "\n",
        "  os.system(f\"ffmpeg -i '{song_title}.mp4' '{song_title}.mp3'\")"
      ],
      "execution_count": null,
      "outputs": []
    },
    {
      "cell_type": "markdown",
      "metadata": {
        "id": "sk2hCs0CtjP9"
      },
      "source": [
        "## Edit ID3 Tags\n",
        "Use either `mutagen` or `eyeD3`\n",
        "* [mutagen](https://mutagen.readthedocs.io/en/latest/): `pip install mutagen`\n",
        "* [eyeD3](https://eyed3.readthedocs.io/en/latest/): `pip install eyed3` "
      ]
    },
    {
      "cell_type": "markdown",
      "metadata": {
        "id": "IirDx0XZZh0l"
      },
      "source": [
        "Examine current metadata"
      ]
    },
    {
      "cell_type": "code",
      "metadata": {
        "colab": {
          "base_uri": "https://localhost:8080/"
        },
        "id": "_PY3cTMhbL5Q",
        "outputId": "655cbece-b4d6-48a0-c9d1-48672395cc4f"
      },
      "source": [
        "!ffprobe '/content/sample_data/Sticks_Stones.mp3'"
      ],
      "execution_count": null,
      "outputs": [
        {
          "output_type": "stream",
          "name": "stdout",
          "text": [
            "ffprobe version 3.4.8-0ubuntu0.2 Copyright (c) 2007-2020 the FFmpeg developers\n",
            "  built with gcc 7 (Ubuntu 7.5.0-3ubuntu1~18.04)\n",
            "  configuration: --prefix=/usr --extra-version=0ubuntu0.2 --toolchain=hardened --libdir=/usr/lib/x86_64-linux-gnu --incdir=/usr/include/x86_64-linux-gnu --enable-gpl --disable-stripping --enable-avresample --enable-avisynth --enable-gnutls --enable-ladspa --enable-libass --enable-libbluray --enable-libbs2b --enable-libcaca --enable-libcdio --enable-libflite --enable-libfontconfig --enable-libfreetype --enable-libfribidi --enable-libgme --enable-libgsm --enable-libmp3lame --enable-libmysofa --enable-libopenjpeg --enable-libopenmpt --enable-libopus --enable-libpulse --enable-librubberband --enable-librsvg --enable-libshine --enable-libsnappy --enable-libsoxr --enable-libspeex --enable-libssh --enable-libtheora --enable-libtwolame --enable-libvorbis --enable-libvpx --enable-libwavpack --enable-libwebp --enable-libx265 --enable-libxml2 --enable-libxvid --enable-libzmq --enable-libzvbi --enable-omx --enable-openal --enable-opengl --enable-sdl2 --enable-libdc1394 --enable-libdrm --enable-libiec61883 --enable-chromaprint --enable-frei0r --enable-libopencv --enable-libx264 --enable-shared\n",
            "  libavutil      55. 78.100 / 55. 78.100\n",
            "  libavcodec     57.107.100 / 57.107.100\n",
            "  libavformat    57. 83.100 / 57. 83.100\n",
            "  libavdevice    57. 10.100 / 57. 10.100\n",
            "  libavfilter     6.107.100 /  6.107.100\n",
            "  libavresample   3.  7.  0 /  3.  7.  0\n",
            "  libswscale      4.  8.100 /  4.  8.100\n",
            "  libswresample   2.  9.100 /  2.  9.100\n",
            "  libpostproc    54.  7.100 / 54.  7.100\n",
            "Input #0, mov,mp4,m4a,3gp,3g2,mj2, from '/content/sample_data/Sticks_Stones.mp3':\n",
            "  Metadata:\n",
            "    major_brand     : dash\n",
            "    minor_version   : 0\n",
            "    compatible_brands: iso6mp41\n",
            "    creation_time   : 2018-11-20T17:47:22.000000Z\n",
            "  Duration: 00:06:10.45, start: 0.000000, bitrate: 48 kb/s\n",
            "    Stream #0:0(und): Audio: aac (HE-AAC) (mp4a / 0x6134706D), 44100 Hz, stereo, fltp, 1 kb/s (default)\n",
            "    Metadata:\n",
            "      creation_time   : 2018-11-20T17:47:22.000000Z\n",
            "      handler_name    : ISO Media file produced by Google Inc. Created on: 11/20/2018.\n"
          ]
        }
      ]
    },
    {
      "cell_type": "markdown",
      "metadata": {
        "id": "zAz3hFJ7Zd7D"
      },
      "source": [
        "Install and Test `eyeD3`"
      ]
    },
    {
      "cell_type": "code",
      "metadata": {
        "id": "tXDufNp3hvqO"
      },
      "source": [
        "!pip install eyed3;"
      ],
      "execution_count": null,
      "outputs": []
    },
    {
      "cell_type": "code",
      "metadata": {
        "id": "VEwqUMeZkfye"
      },
      "source": [
        "import eyed3"
      ],
      "execution_count": null,
      "outputs": []
    },
    {
      "cell_type": "code",
      "metadata": {
        "id": "CDAcPo6owIAM"
      },
      "source": [
        "path = \"/content/sample_data/Sticks_Stones.mp3\"\n",
        "\n",
        "sf = eyed3.utils."
      ],
      "execution_count": null,
      "outputs": []
    },
    {
      "cell_type": "code",
      "metadata": {
        "colab": {
          "base_uri": "https://localhost:8080/"
        },
        "id": "KLih7wQyxH-P",
        "outputId": "e7f3271c-1397-4872-c307-204b701cd34e"
      },
      "source": [
        "print(sf)"
      ],
      "execution_count": null,
      "outputs": [
        {
          "output_type": "stream",
          "name": "stdout",
          "text": [
            "None\n"
          ]
        }
      ]
    },
    {
      "cell_type": "code",
      "metadata": {
        "id": "RDrmAbBrxNkU"
      },
      "source": [
        ""
      ],
      "execution_count": null,
      "outputs": []
    }
  ]
}