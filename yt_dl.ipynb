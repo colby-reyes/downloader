{
  "nbformat": 4,
  "nbformat_minor": 2,
  "metadata": {
    "colab": {
      "name": "web_scraper.ipynb",
      "provenance": []
    },
    "kernelspec": {
      "name": "python3",
      "display_name": "Python 3"
    },
    "language_info": {
      "name": "python"
    }
  },
  "cells": [
    {
      "cell_type": "markdown",
      "source": [
        "# Youtube $\\rightarrow$ iTunes"
      ],
      "metadata": {}
    },
    {
      "cell_type": "markdown",
      "source": [
        "First, let's import some standard packages we might need"
      ],
      "metadata": {}
    },
    {
      "cell_type": "code",
      "execution_count": 18,
      "source": [
        "# misc\n",
        "import os\n",
        "import shutil\n",
        "import math\n",
        "import datetime\n",
        "# plots\n",
        "import matplotlib.pyplot as plt\n",
        "%matplotlib inline\n"
      ],
      "outputs": [],
      "metadata": {
        "id": "4a2MreR0Su7Y"
      }
    },
    {
      "cell_type": "markdown",
      "source": [
        "## Test Download Methods"
      ],
      "metadata": {}
    },
    {
      "cell_type": "markdown",
      "source": [
        "### Method 1: Using PyTube"
      ],
      "metadata": {}
    },
    {
      "cell_type": "code",
      "execution_count": 15,
      "source": [
        "pip install pytube"
      ],
      "outputs": [
        {
          "output_type": "stream",
          "name": "stdout",
          "text": [
            "Requirement already satisfied: pytube in /Users/colbyr/miniconda3/lib/python3.9/site-packages (11.0.1)\n",
            "Note: you may need to restart the kernel to use updated packages.\n"
          ]
        }
      ],
      "metadata": {
        "colab": {
          "base_uri": "https://localhost:8080/"
        },
        "id": "v6WxGVLcG5ba",
        "outputId": "0853d1ff-70ab-4a2b-f590-00e76b49cb48"
      }
    },
    {
      "cell_type": "code",
      "execution_count": 16,
      "source": [
        "from pytube import YouTube"
      ],
      "outputs": [],
      "metadata": {
        "id": "zkn6yZWRSZuU"
      }
    },
    {
      "cell_type": "code",
      "execution_count": 17,
      "source": [
        "!conda list | grep pytube"
      ],
      "outputs": [
        {
          "output_type": "stream",
          "name": "stdout",
          "text": [
            "pytube                    11.0.1                   pypi_0    pypi\n"
          ]
        }
      ],
      "metadata": {}
    },
    {
      "cell_type": "markdown",
      "source": [
        "Download **video** with `pytube`"
      ],
      "metadata": {}
    },
    {
      "cell_type": "code",
      "execution_count": 5,
      "source": [
        "video_url = 'https://www.youtube.com/watch?v=YWhSQpUNGgY'\n",
        "# video.streams.filter(file_extension = \"mp4\").all()\n",
        "youtube = YouTube(video_url)\n",
        "video = youtube.streams.first()\n",
        "video.download(filename=\"Sticks_and_Stones.mp4\")\n",
        "# video.filesize"
      ],
      "outputs": [
        {
          "output_type": "execute_result",
          "data": {
            "text/plain": [
              "'/Users/colbyr/Documents/GitHub/downloader/Sticks_and_Stones.mp4'"
            ]
          },
          "metadata": {},
          "execution_count": 5
        }
      ],
      "metadata": {
        "colab": {
          "base_uri": "https://localhost:8080/",
          "height": 36
        },
        "id": "yr_RJVgkSyTy",
        "outputId": "24491fb0-402c-4bdd-adeb-77b1672a4c5e"
      }
    },
    {
      "cell_type": "markdown",
      "source": [
        "Download *only* **audio** with `pytube`"
      ],
      "metadata": {}
    },
    {
      "cell_type": "code",
      "execution_count": 13,
      "source": [
        "youtube_video_url = 'https://youtu.be/bIjCNQT5BNU'\n",
        "track_title = '8hr Binarual Sleep.mp3'\n",
        " \n",
        "yt_obj = YouTube(youtube_video_url)"
      ],
      "outputs": [
        {
          "output_type": "stream",
          "name": "stderr",
          "text": [
            "/Users/colbyr/miniconda3/lib/python3.9/site-packages/ipykernel/ipkernel.py:287: DeprecationWarning: `should_run_async` will not call `transform_cell` automatically in the future. Please pass the result to `transformed_cell` argument and any exception that happen during thetransform in `preprocessing_exc_tuple` in IPython 7.17 and above.\n",
            "  and should_run_async(code)\n"
          ]
        }
      ],
      "metadata": {
        "colab": {
          "base_uri": "https://localhost:8080/",
          "height": 338
        },
        "id": "fhO8ueGUW4pw",
        "outputId": "4ef974bf-0c6d-462b-fff1-a16c287235ce"
      }
    },
    {
      "cell_type": "code",
      "execution_count": 14,
      "source": [
        "audio = yt_obj.streams.filter(only_audio=True).first()\n",
        "audio.download('./downloads', filename=track_title)"
      ],
      "outputs": [
        {
          "output_type": "execute_result",
          "data": {
            "text/plain": [
              "'/Users/colbyr/Documents/GitHub/downloader/./downloads/8hr Binarual Sleep.mp3'"
            ]
          },
          "metadata": {},
          "execution_count": 14
        }
      ],
      "metadata": {
        "colab": {
          "base_uri": "https://localhost:8080/"
        },
        "id": "9C080eCnW518",
        "outputId": "627a9ce6-10f4-4a7f-c471-1f1ba8896420"
      }
    },
    {
      "cell_type": "markdown",
      "source": [
        "### Alternate Method (NOT USING)\n",
        "This method employs the `requests` module, but will not be used because it does not seem to work consistently"
      ],
      "metadata": {}
    },
    {
      "cell_type": "code",
      "execution_count": null,
      "source": [
        "# import requests\n",
        "# file_url = \"https://www.youtube.com/watch?v=YWhSQpUNGgY\"\n",
        "# file_name = \"Sticks and Stone.mp4\"\n",
        "\n",
        "# r = requests.get(file_url, stream = True)\n",
        "\n",
        "# # download started \n",
        "# with open(file_name, 'wb') as f: \n",
        "#     for chunk in r.iter_content(chunk_size = 1024*1024): \n",
        "#         if chunk: \n",
        "#             f.write(chunk) \n",
        "  \n",
        "# print( \"%s downloaded!\\n\"%file_name )"
      ],
      "outputs": [
        {
          "output_type": "stream",
          "name": "stdout",
          "text": [
            "Sticks and Stone.mp4 downloaded!\n",
            "\n"
          ]
        }
      ],
      "metadata": {
        "colab": {
          "base_uri": "https://localhost:8080/"
        },
        "id": "kJaygkr5TKLC",
        "outputId": "65042174-40ae-4eb0-d277-bc1b5a9ab1bd"
      }
    },
    {
      "cell_type": "markdown",
      "source": [
        "## Define Download Functions"
      ],
      "metadata": {}
    },
    {
      "cell_type": "markdown",
      "source": [
        "Import modules again to start from this cell:"
      ],
      "metadata": {}
    },
    {
      "cell_type": "code",
      "execution_count": 6,
      "source": [
        "import os\n",
        "from pytube import YouTube"
      ],
      "outputs": [],
      "metadata": {
        "id": "UIe6vwzrW2Md"
      }
    },
    {
      "cell_type": "markdown",
      "source": [
        "### **Video** *Download* and *Conversion* Functions"
      ],
      "metadata": {}
    },
    {
      "cell_type": "markdown",
      "source": [
        "Download function:\n",
        "* download first video stream with `pytube`"
      ],
      "metadata": {}
    },
    {
      "cell_type": "code",
      "execution_count": 23,
      "source": [
        "def download_video(youtube_url, song_title, file_path='.'):\n",
        "  video_filename = song_title + \".mp4\"\n",
        "  yt_obj = YouTube(youtube_url)\n",
        "  video = yt_obj.streams.first()\n",
        "  video.download(output_path=file_path, filename=video_filename)"
      ],
      "outputs": [],
      "metadata": {}
    },
    {
      "cell_type": "markdown",
      "source": [
        "Conversion Function:\n",
        "* run `ffmpeg` with `os.system()` module"
      ],
      "metadata": {}
    },
    {
      "cell_type": "code",
      "execution_count": 25,
      "source": [
        "def convert_to_audio(song_title, file_path='.', output_type=\"mp3\"):\n",
        "    vid = f'{song_title}.mp4'\n",
        "    audio = f'{song_title}.{output_type}'\n",
        "\n",
        "    # set variable with path to video and audio files\n",
        "    vid_path = os.path.join(file_path, vid)\n",
        "    audio_path = os.path.join(file_path, audio)\n",
        "    \n",
        "    # call `ffmpeg` to transform to output format\n",
        "    os.system(f\"ffmpeg -i '{vid_path}' '{audio_path}'\")"
      ],
      "outputs": [
        {
          "output_type": "stream",
          "name": "stderr",
          "text": [
            "/Users/colbyr/miniconda3/lib/python3.9/site-packages/ipykernel/ipkernel.py:287: DeprecationWarning: `should_run_async` will not call `transform_cell` automatically in the future. Please pass the result to `transformed_cell` argument and any exception that happen during thetransform in `preprocessing_exc_tuple` in IPython 7.17 and above.\n",
            "  and should_run_async(code)\n"
          ]
        }
      ],
      "metadata": {}
    },
    {
      "cell_type": "markdown",
      "source": [
        "### **Audio** Download Function\n",
        "* Download audio using `.filter(only_audio)` option from `pytube`"
      ],
      "metadata": {}
    },
    {
      "cell_type": "code",
      "execution_count": 26,
      "source": [
        "def download_audio(youtube_url, song_title, file_path='.'):\n",
        "  audio_filename = f\"{song_title}.mp3\"\n",
        "  yt_obj = YouTube(youtube_url)\n",
        "  audio = yt_obj.streams.filter(only_audio=True).first()\n",
        "  audio.download(output_path=file_path, filename=audio_filename)"
      ],
      "outputs": [],
      "metadata": {}
    },
    {
      "cell_type": "markdown",
      "source": [
        "Test download function"
      ],
      "metadata": {
        "id": "MMdNwDnEePCP"
      }
    },
    {
      "cell_type": "code",
      "execution_count": 37,
      "source": [
        "youtube_video_url = \"https://www.youtube.com/watch?v=YWhSQpUNGgY\"\n",
        "\n",
        "fname = \"01 Sticks and Stones\"\n",
        "\n",
        "output_path = \"./downloads\"\n",
        "\n",
        "download_audio(youtube_video_url, fname, output_path)"
      ],
      "outputs": [
        {
          "output_type": "stream",
          "name": "stderr",
          "text": [
            "/Users/colbyr/miniconda3/lib/python3.9/site-packages/ipykernel/ipkernel.py:287: DeprecationWarning: `should_run_async` will not call `transform_cell` automatically in the future. Please pass the result to `transformed_cell` argument and any exception that happen during thetransform in `preprocessing_exc_tuple` in IPython 7.17 and above.\n",
            "  and should_run_async(code)\n"
          ]
        }
      ],
      "metadata": {}
    },
    {
      "cell_type": "markdown",
      "source": [
        "## Edit ID3 Tags\n",
        "Use either `mutagen` or `eyeD3`\n",
        "* [mutagen](https://mutagen.readthedocs.io/en/latest/): `pip install mutagen`\n",
        "* [eyeD3](https://eyed3.readthedocs.io/en/latest/): `pip install eyed3` "
      ],
      "metadata": {
        "id": "sk2hCs0CtjP9"
      }
    },
    {
      "cell_type": "markdown",
      "source": [
        "### Check current metadata \n",
        "Use `ffprobe`, included in `ffmpeg` binary, to return the metadata currently attributed to the `.mp3` file"
      ],
      "metadata": {}
    },
    {
      "cell_type": "code",
      "execution_count": 61,
      "source": [
        "import subprocess\n",
        "!ffprobe \"./downloads/01 Sticks and Stones.mp3\""
      ],
      "outputs": [
        {
          "output_type": "stream",
          "name": "stdout",
          "text": [
            "ffprobe version 4.3.1 Copyright (c) 2007-2020 the FFmpeg developers\n",
            "  built with clang version 11.0.0\n",
            "  configuration: --prefix=/Users/colbyr/miniconda3 --cc=x86_64-apple-darwin13.4.0-clang --disable-doc --disable-openssl --enable-avresample --enable-gnutls --enable-gpl --enable-hardcoded-tables --enable-libfreetype --enable-libopenh264 --enable-libx264 --enable-pic --enable-pthreads --enable-shared --enable-static --enable-version3 --enable-zlib --enable-libmp3lame --pkg-config=/Users/runner/miniforge3/conda-bld/ffmpeg_1609681034781/_build_env/bin/pkg-config\n",
            "  libavutil      56. 51.100 / 56. 51.100\n",
            "  libavcodec     58. 91.100 / 58. 91.100\n",
            "  libavformat    58. 45.100 / 58. 45.100\n",
            "  libavdevice    58. 10.100 / 58. 10.100\n",
            "  libavfilter     7. 85.100 /  7. 85.100\n",
            "  libavresample   4.  0.  0 /  4.  0.  0\n",
            "  libswscale      5.  7.100 /  5.  7.100\n",
            "  libswresample   3.  7.100 /  3.  7.100\n",
            "  libpostproc    55.  7.100 / 55.  7.100\n",
            "Input #0, mov,mp4,m4a,3gp,3g2,mj2, from './downloads/01 Sticks and Stones.mp3':\n",
            "  Metadata:\n",
            "    major_brand     : dash\n",
            "    minor_version   : 0\n",
            "    compatible_brands: iso6mp41\n",
            "    creation_time   : 2018-11-20T17:47:22.000000Z\n",
            "  Duration: 00:06:10.45, start: 0.000000, bitrate: 48 kb/s\n",
            "    Stream #0:0(und): Audio: aac (HE-AAC) (mp4a / 0x6134706D), 44100 Hz, stereo, fltp, 1 kb/s (default)\n",
            "    Metadata:\n",
            "      creation_time   : 2018-11-20T17:47:22.000000Z\n",
            "      handler_name    : ISO Media file produced by Google Inc. Created on: 11/20/2018.\n"
          ]
        },
        {
          "output_type": "stream",
          "name": "stderr",
          "text": [
            "/Users/colbyr/miniconda3/lib/python3.9/site-packages/ipykernel/ipkernel.py:287: DeprecationWarning: `should_run_async` will not call `transform_cell` automatically in the future. Please pass the result to `transformed_cell` argument and any exception that happen during thetransform in `preprocessing_exc_tuple` in IPython 7.17 and above.\n",
            "  and should_run_async(code)\n"
          ]
        }
      ],
      "metadata": {}
    },
    {
      "cell_type": "markdown",
      "source": [
        "### Install and Test `eyeD3`"
      ],
      "metadata": {
        "id": "zAz3hFJ7Zd7D"
      }
    },
    {
      "cell_type": "code",
      "execution_count": null,
      "source": [
        "!pip install eyed3"
      ],
      "outputs": [],
      "metadata": {}
    },
    {
      "cell_type": "code",
      "execution_count": 87,
      "source": [
        "import eyed3"
      ],
      "outputs": [
        {
          "output_type": "stream",
          "name": "stderr",
          "text": [
            "/Users/colbyr/miniconda3/lib/python3.9/site-packages/ipykernel/ipkernel.py:287: DeprecationWarning: `should_run_async` will not call `transform_cell` automatically in the future. Please pass the result to `transformed_cell` argument and any exception that happen during thetransform in `preprocessing_exc_tuple` in IPython 7.17 and above.\n",
            "  and should_run_async(code)\n"
          ]
        }
      ],
      "metadata": {}
    },
    {
      "cell_type": "code",
      "execution_count": 97,
      "source": [
        "path = \"./downloads/01 Sticks and Stones.mp3\"\n",
        "\n",
        "audio_file = eyed3.mp3.Mp3AudioFile(path)\n",
        "audio_file.initTag()\n",
        "audio_file.tag.artist = \"Kings Kaleidoscope\"\n",
        "audio_file.tag.album = \"Beauty Between\"\n",
        "audio_file.tag.genre = \"Alternative\"\n",
        "audio_file.tag.track_num = 1\n",
        "\n",
        "audio_file.tag.save()"
      ],
      "outputs": [
        {
          "output_type": "stream",
          "name": "stderr",
          "text": [
            "/Users/colbyr/miniconda3/lib/python3.9/site-packages/ipykernel/ipkernel.py:287: DeprecationWarning: `should_run_async` will not call `transform_cell` automatically in the future. Please pass the result to `transformed_cell` argument and any exception that happen during thetransform in `preprocessing_exc_tuple` in IPython 7.17 and above.\n",
            "  and should_run_async(code)\n"
          ]
        }
      ],
      "metadata": {}
    },
    {
      "cell_type": "code",
      "execution_count": 98,
      "source": [
        "!ffprobe './downloads/01 Sticks and Stones.mp3'"
      ],
      "outputs": [
        {
          "output_type": "stream",
          "name": "stdout",
          "text": [
            "ffprobe version 4.3.1 Copyright (c) 2007-2020 the FFmpeg developers\n",
            "  built with clang version 11.0.0\n",
            "  configuration: --prefix=/Users/colbyr/miniconda3 --cc=x86_64-apple-darwin13.4.0-clang --disable-doc --disable-openssl --enable-avresample --enable-gnutls --enable-gpl --enable-hardcoded-tables --enable-libfreetype --enable-libopenh264 --enable-libx264 --enable-pic --enable-pthreads --enable-shared --enable-static --enable-version3 --enable-zlib --enable-libmp3lame --pkg-config=/Users/runner/miniforge3/conda-bld/ffmpeg_1609681034781/_build_env/bin/pkg-config\n",
            "  libavutil      56. 51.100 / 56. 51.100\n",
            "  libavcodec     58. 91.100 / 58. 91.100\n",
            "  libavformat    58. 45.100 / 58. 45.100\n",
            "  libavdevice    58. 10.100 / 58. 10.100\n",
            "  libavfilter     7. 85.100 /  7. 85.100\n",
            "  libavresample   4.  0.  0 /  4.  0.  0\n",
            "  libswscale      5.  7.100 /  5.  7.100\n",
            "  libswresample   3.  7.100 /  3.  7.100\n",
            "  libpostproc    55.  7.100 / 55.  7.100\n",
            "\u001b[0;35m[mov,mp4,m4a,3gp,3g2,mj2 @ 0x7f90f700ca00] \u001b[0m\u001b[0;33mDiscarding ID3 tags because more suitable tags were found.\n",
            "\u001b[0mInput #0, mov,mp4,m4a,3gp,3g2,mj2, from './downloads/01 Sticks and Stones.mp3':\n",
            "  Metadata:\n",
            "    major_brand     : dash\n",
            "    minor_version   : 0\n",
            "    compatible_brands: iso6mp41\n",
            "    creation_time   : 2018-11-20T17:47:22.000000Z\n",
            "  Duration: 00:06:10.45, start: 0.000000, bitrate: 48 kb/s\n",
            "    Stream #0:0(und): Audio: aac (HE-AAC) (mp4a / 0x6134706D), 44100 Hz, stereo, fltp, 1 kb/s (default)\n",
            "    Metadata:\n",
            "      creation_time   : 2018-11-20T17:47:22.000000Z\n",
            "      handler_name    : ISO Media file produced by Google Inc. Created on: 11/20/2018.\n"
          ]
        }
      ],
      "metadata": {}
    },
    {
      "cell_type": "code",
      "execution_count": 120,
      "source": [
        "af = eyed3.load(path)\n",
        "af.tag.album = \"Beauty Between\"\n",
        "af.tag.artist = \"Kings Kaleidoscope\" \n",
        "\n",
        "af.tag.save()"
      ],
      "outputs": [
        {
          "output_type": "stream",
          "name": "stderr",
          "text": [
            "/Users/colbyr/miniconda3/lib/python3.9/site-packages/ipykernel/ipkernel.py:287: DeprecationWarning: `should_run_async` will not call `transform_cell` automatically in the future. Please pass the result to `transformed_cell` argument and any exception that happen during thetransform in `preprocessing_exc_tuple` in IPython 7.17 and above.\n",
            "  and should_run_async(code)\n"
          ]
        }
      ],
      "metadata": {}
    },
    {
      "cell_type": "code",
      "execution_count": 121,
      "source": [
        "print(af.tag.title)"
      ],
      "outputs": [
        {
          "output_type": "stream",
          "name": "stdout",
          "text": [
            "None\n"
          ]
        }
      ],
      "metadata": {}
    },
    {
      "cell_type": "code",
      "execution_count": 108,
      "source": [
        "!ffprobe \"./downloads/01 Sticks and Stones.mp3\""
      ],
      "outputs": [
        {
          "output_type": "stream",
          "name": "stdout",
          "text": [
            "ffprobe version 4.3.1 Copyright (c) 2007-2020 the FFmpeg developers\n",
            "  built with clang version 11.0.0\n",
            "  configuration: --prefix=/Users/colbyr/miniconda3 --cc=x86_64-apple-darwin13.4.0-clang --disable-doc --disable-openssl --enable-avresample --enable-gnutls --enable-gpl --enable-hardcoded-tables --enable-libfreetype --enable-libopenh264 --enable-libx264 --enable-pic --enable-pthreads --enable-shared --enable-static --enable-version3 --enable-zlib --enable-libmp3lame --pkg-config=/Users/runner/miniforge3/conda-bld/ffmpeg_1609681034781/_build_env/bin/pkg-config\n",
            "  libavutil      56. 51.100 / 56. 51.100\n",
            "  libavcodec     58. 91.100 / 58. 91.100\n",
            "  libavformat    58. 45.100 / 58. 45.100\n",
            "  libavdevice    58. 10.100 / 58. 10.100\n",
            "  libavfilter     7. 85.100 /  7. 85.100\n",
            "  libavresample   4.  0.  0 /  4.  0.  0\n",
            "  libswscale      5.  7.100 /  5.  7.100\n",
            "  libswresample   3.  7.100 /  3.  7.100\n",
            "  libpostproc    55.  7.100 / 55.  7.100\n",
            "\u001b[0;35m[mov,mp4,m4a,3gp,3g2,mj2 @ 0x7f9b2400be00] \u001b[0m\u001b[0;33mDiscarding ID3 tags because more suitable tags were found.\n",
            "\u001b[0mInput #0, mov,mp4,m4a,3gp,3g2,mj2, from './downloads/01 Sticks and Stones.mp3':\n",
            "  Metadata:\n",
            "    major_brand     : dash\n",
            "    minor_version   : 0\n",
            "    compatible_brands: iso6mp41\n",
            "    creation_time   : 2018-11-20T17:47:22.000000Z\n",
            "  Duration: 00:06:10.45, start: 0.000000, bitrate: 48 kb/s\n",
            "    Stream #0:0(und): Audio: aac (HE-AAC) (mp4a / 0x6134706D), 44100 Hz, stereo, fltp, 1 kb/s (default)\n",
            "    Metadata:\n",
            "      creation_time   : 2018-11-20T17:47:22.000000Z\n",
            "      handler_name    : ISO Media file produced by Google Inc. Created on: 11/20/2018.\n"
          ]
        },
        {
          "output_type": "stream",
          "name": "stderr",
          "text": [
            "/Users/colbyr/miniconda3/lib/python3.9/site-packages/ipykernel/ipkernel.py:287: DeprecationWarning: `should_run_async` will not call `transform_cell` automatically in the future. Please pass the result to `transformed_cell` argument and any exception that happen during thetransform in `preprocessing_exc_tuple` in IPython 7.17 and above.\n",
            "  and should_run_async(code)\n"
          ]
        }
      ],
      "metadata": {}
    },
    {
      "cell_type": "markdown",
      "source": [
        "### Using `Mutagen`\n",
        "* `eyed3` seems to be having problems and documentation is inconsistent with available version(s) \n",
        "* also seems like iTunes mainly uses `.m4a` or `.m4p` file type, which `mutagen` explicitly supports\n",
        "\n",
        "$\\rightarrow$ switching to trying out `mutagen`"
      ],
      "metadata": {
        "id": "O4hQPY4FzDy_"
      }
    },
    {
      "cell_type": "code",
      "execution_count": 123,
      "source": [
        "!pip install mutagen"
      ],
      "outputs": [
        {
          "output_type": "stream",
          "name": "stdout",
          "text": [
            "Requirement already satisfied: mutagen in /Users/colbyr/miniconda3/lib/python3.9/site-packages (1.45.1)\n"
          ]
        }
      ],
      "metadata": {}
    },
    {
      "cell_type": "code",
      "execution_count": 125,
      "source": [
        "import mutagen"
      ],
      "outputs": [],
      "metadata": {}
    }
  ]
}