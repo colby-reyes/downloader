{
  "nbformat": 4,
  "nbformat_minor": 2,
  "metadata": {
    "colab": {
      "name": "web_scraper.ipynb",
      "provenance": []
    },
    "kernelspec": {
      "name": "python3",
      "display_name": "Python 3"
    },
    "language_info": {
      "name": "python"
    }
  },
  "cells": [
    {
      "cell_type": "code",
      "execution_count": null,
      "source": [
        "pip install pytube"
      ],
      "outputs": [
        {
          "output_type": "stream",
          "name": "stdout",
          "text": [
            "Requirement already satisfied: pytube in /usr/local/lib/python3.7/dist-packages (10.8.4)\n"
          ]
        }
      ],
      "metadata": {
        "colab": {
          "base_uri": "https://localhost:8080/"
        },
        "id": "v6WxGVLcG5ba",
        "outputId": "0853d1ff-70ab-4a2b-f590-00e76b49cb48"
      }
    },
    {
      "cell_type": "code",
      "execution_count": 1,
      "source": [
        "from pytube import YouTube"
      ],
      "outputs": [],
      "metadata": {
        "id": "zkn6yZWRSZuU"
      }
    },
    {
      "cell_type": "code",
      "execution_count": 2,
      "source": [
        "!conda list | grep pytube"
      ],
      "outputs": [
        {
          "output_type": "stream",
          "name": "stdout",
          "text": [
            "pytube                    11.0.1                   pypi_0    pypi\n"
          ]
        }
      ],
      "metadata": {}
    },
    {
      "cell_type": "code",
      "execution_count": 3,
      "source": [
        "# misc\n",
        "import os\n",
        "import shutil\n",
        "import math\n",
        "import datetime\n",
        "# plots\n",
        "import matplotlib.pyplot as plt\n",
        "%matplotlib inline\n",
        "# image operation\n",
        "import cv2"
      ],
      "outputs": [],
      "metadata": {
        "id": "4a2MreR0Su7Y"
      }
    },
    {
      "cell_type": "code",
      "execution_count": 5,
      "source": [
        "video_url = 'https://www.youtube.com/watch?v=YWhSQpUNGgY' \n",
        "# video.streams.filter(file_extension = \"mp4\").all()\n",
        "youtube = YouTube(video_url)\n",
        "video = youtube.streams.first()\n",
        "video.download(filename=\"Sticks_and_Stones.mp4\")\n",
        "# video.filesize"
      ],
      "outputs": [
        {
          "output_type": "execute_result",
          "data": {
            "text/plain": [
              "'/Users/colbyr/Documents/GitHub/downloader/Sticks_and_Stones.mp4'"
            ]
          },
          "metadata": {},
          "execution_count": 5
        }
      ],
      "metadata": {
        "colab": {
          "base_uri": "https://localhost:8080/",
          "height": 36
        },
        "id": "yr_RJVgkSyTy",
        "outputId": "24491fb0-402c-4bdd-adeb-77b1672a4c5e"
      }
    },
    {
      "cell_type": "code",
      "execution_count": null,
      "source": [
        "import requests\n",
        "file_url = \"https://www.youtube.com/watch?v=YWhSQpUNGgY\"\n",
        "file_name = \"Sticks and Stone.mp4\"\n",
        "\n",
        "r = requests.get(file_url, stream = True)\n",
        "\n",
        "# download started \n",
        "with open(file_name, 'wb') as f: \n",
        "    for chunk in r.iter_content(chunk_size = 1024*1024): \n",
        "        if chunk: \n",
        "            f.write(chunk) \n",
        "  \n",
        "print( \"%s downloaded!\\n\"%file_name )"
      ],
      "outputs": [
        {
          "output_type": "stream",
          "name": "stdout",
          "text": [
            "Sticks and Stone.mp4 downloaded!\n",
            "\n"
          ]
        }
      ],
      "metadata": {
        "colab": {
          "base_uri": "https://localhost:8080/"
        },
        "id": "kJaygkr5TKLC",
        "outputId": "65042174-40ae-4eb0-d277-bc1b5a9ab1bd"
      }
    },
    {
      "cell_type": "code",
      "execution_count": 6,
      "source": [
        "from pytube import YouTube"
      ],
      "outputs": [],
      "metadata": {
        "id": "UIe6vwzrW2Md"
      }
    },
    {
      "cell_type": "code",
      "execution_count": 13,
      "source": [
        "youtube_video_url = 'https://youtu.be/bIjCNQT5BNU'\n",
        "track_title = '8hr Binarual Sleep.mp3'\n",
        " \n",
        "yt_obj = YouTube(youtube_video_url)"
      ],
      "outputs": [
        {
          "output_type": "stream",
          "name": "stderr",
          "text": [
            "/Users/colbyr/miniconda3/lib/python3.9/site-packages/ipykernel/ipkernel.py:287: DeprecationWarning: `should_run_async` will not call `transform_cell` automatically in the future. Please pass the result to `transformed_cell` argument and any exception that happen during thetransform in `preprocessing_exc_tuple` in IPython 7.17 and above.\n",
            "  and should_run_async(code)\n"
          ]
        }
      ],
      "metadata": {
        "colab": {
          "base_uri": "https://localhost:8080/",
          "height": 338
        },
        "id": "fhO8ueGUW4pw",
        "outputId": "4ef974bf-0c6d-462b-fff1-a16c287235ce"
      }
    },
    {
      "cell_type": "code",
      "execution_count": 14,
      "source": [
        "audio = yt_obj.streams.filter(only_audio=True).first()\n",
        "audio.download('./downloads', filename=track_title)"
      ],
      "outputs": [
        {
          "output_type": "execute_result",
          "data": {
            "text/plain": [
              "'/Users/colbyr/Documents/GitHub/downloader/./downloads/8hr Binarual Sleep.mp3'"
            ]
          },
          "metadata": {},
          "execution_count": 14
        }
      ],
      "metadata": {
        "colab": {
          "base_uri": "https://localhost:8080/"
        },
        "id": "9C080eCnW518",
        "outputId": "627a9ce6-10f4-4a7f-c471-1f1ba8896420"
      }
    },
    {
      "cell_type": "code",
      "execution_count": null,
      "source": [],
      "outputs": [],
      "metadata": {}
    }
  ]
}