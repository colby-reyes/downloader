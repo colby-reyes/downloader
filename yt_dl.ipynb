{
  "nbformat": 4,
  "nbformat_minor": 2,
  "metadata": {
    "colab": {
      "name": "web_scraper.ipynb",
      "provenance": []
    },
    "kernelspec": {
      "name": "python3",
      "display_name": "Python 3.9.5 64-bit ('base': conda)"
    },
    "language_info": {
      "name": "python",
      "version": "3.9.5",
      "mimetype": "text/x-python",
      "codemirror_mode": {
        "name": "ipython",
        "version": 3
      },
      "pygments_lexer": "ipython3",
      "nbconvert_exporter": "python",
      "file_extension": ".py"
    },
    "interpreter": {
      "hash": "2206a98374b3be46c012206b7b8d12b56d8bdb432c9b54891958bf95cf013a83"
    }
  },
  "cells": [
    {
      "cell_type": "markdown",
      "source": [
        "# Youtube $\\rightarrow$ iTunes\n",
        "---"
      ],
      "metadata": {}
    },
    {
      "cell_type": "markdown",
      "source": [
        "First, let's import some standard packages we might need"
      ],
      "metadata": {}
    },
    {
      "cell_type": "code",
      "execution_count": 18,
      "source": [
        "# misc\n",
        "import os\n",
        "import shutil\n",
        "import math\n",
        "import datetime\n",
        "# plots\n",
        "import matplotlib.pyplot as plt\n",
        "%matplotlib inline\n"
      ],
      "outputs": [],
      "metadata": {
        "id": "4a2MreR0Su7Y"
      }
    },
    {
      "cell_type": "markdown",
      "source": [
        "## Test Download Methods"
      ],
      "metadata": {}
    },
    {
      "cell_type": "markdown",
      "source": [
        "### Method 1: Using PyTube"
      ],
      "metadata": {}
    },
    {
      "cell_type": "code",
      "execution_count": 15,
      "source": [
        "!pip install pytube"
      ],
      "outputs": [
        {
          "output_type": "stream",
          "name": "stdout",
          "text": [
            "Requirement already satisfied: pytube in /Users/colbyr/miniconda3/lib/python3.9/site-packages (11.0.1)\n",
            "Note: you may need to restart the kernel to use updated packages.\n"
          ]
        }
      ],
      "metadata": {
        "colab": {
          "base_uri": "https://localhost:8080/"
        },
        "id": "v6WxGVLcG5ba",
        "outputId": "0853d1ff-70ab-4a2b-f590-00e76b49cb48"
      }
    },
    {
      "cell_type": "code",
      "execution_count": 16,
      "source": [
        "from pytube import YouTube"
      ],
      "outputs": [],
      "metadata": {
        "id": "zkn6yZWRSZuU"
      }
    },
    {
      "cell_type": "code",
      "execution_count": 17,
      "source": [
        "!conda list | grep pytube"
      ],
      "outputs": [
        {
          "output_type": "stream",
          "name": "stdout",
          "text": [
            "pytube                    11.0.1                   pypi_0    pypi\n"
          ]
        }
      ],
      "metadata": {}
    },
    {
      "cell_type": "markdown",
      "source": [
        "Download **video** with `pytube`"
      ],
      "metadata": {}
    },
    {
      "cell_type": "code",
      "execution_count": 5,
      "source": [
        "video_url = 'https://www.youtube.com/watch?v=YWhSQpUNGgY'\n",
        "# video.streams.filter(file_extension = \"mp4\").all()\n",
        "youtube = YouTube(video_url)\n",
        "video = youtube.streams.first()\n",
        "video.download(filename=\"Sticks_and_Stones.mp4\")\n",
        "# video.filesize"
      ],
      "outputs": [
        {
          "output_type": "execute_result",
          "data": {
            "text/plain": [
              "'/Users/colbyr/Documents/GitHub/downloader/Sticks_and_Stones.mp4'"
            ]
          },
          "metadata": {},
          "execution_count": 5
        }
      ],
      "metadata": {
        "colab": {
          "base_uri": "https://localhost:8080/",
          "height": 36
        },
        "id": "yr_RJVgkSyTy",
        "outputId": "24491fb0-402c-4bdd-adeb-77b1672a4c5e"
      }
    },
    {
      "cell_type": "markdown",
      "source": [
        "Download *only* **audio** with `pytube`"
      ],
      "metadata": {}
    },
    {
      "cell_type": "code",
      "execution_count": 13,
      "source": [
        "youtube_video_url = 'https://youtu.be/bIjCNQT5BNU'\n",
        "track_title = '8hr Binarual Sleep.mp3'\n",
        " \n",
        "yt_obj = YouTube(youtube_video_url)"
      ],
      "outputs": [
        {
          "output_type": "stream",
          "name": "stderr",
          "text": [
            "/Users/colbyr/miniconda3/lib/python3.9/site-packages/ipykernel/ipkernel.py:287: DeprecationWarning: `should_run_async` will not call `transform_cell` automatically in the future. Please pass the result to `transformed_cell` argument and any exception that happen during thetransform in `preprocessing_exc_tuple` in IPython 7.17 and above.\n",
            "  and should_run_async(code)\n"
          ]
        }
      ],
      "metadata": {
        "colab": {
          "base_uri": "https://localhost:8080/",
          "height": 338
        },
        "id": "fhO8ueGUW4pw",
        "outputId": "4ef974bf-0c6d-462b-fff1-a16c287235ce"
      }
    },
    {
      "cell_type": "code",
      "execution_count": 14,
      "source": [
        "audio = yt_obj.streams.filter(only_audio=True).first()\n",
        "audio.download('./downloads', filename=track_title)"
      ],
      "outputs": [
        {
          "output_type": "execute_result",
          "data": {
            "text/plain": [
              "'/Users/colbyr/Documents/GitHub/downloader/./downloads/8hr Binarual Sleep.mp3'"
            ]
          },
          "metadata": {},
          "execution_count": 14
        }
      ],
      "metadata": {
        "colab": {
          "base_uri": "https://localhost:8080/"
        },
        "id": "9C080eCnW518",
        "outputId": "627a9ce6-10f4-4a7f-c471-1f1ba8896420"
      }
    },
    {
      "cell_type": "markdown",
      "source": [
        "### Alternate Method (NOT USING)\n",
        "This method employs the `requests` module, but will not be used because it does not seem to work consistently"
      ],
      "metadata": {}
    },
    {
      "cell_type": "code",
      "execution_count": null,
      "source": [
        "# import requests\n",
        "# file_url = \"https://www.youtube.com/watch?v=YWhSQpUNGgY\"\n",
        "# file_name = \"Sticks and Stone.mp4\"\n",
        "\n",
        "# r = requests.get(file_url, stream = True)\n",
        "\n",
        "# # download started \n",
        "# with open(file_name, 'wb') as f: \n",
        "#     for chunk in r.iter_content(chunk_size = 1024*1024): \n",
        "#         if chunk: \n",
        "#             f.write(chunk) \n",
        "  \n",
        "# print( \"%s downloaded!\\n\"%file_name )"
      ],
      "outputs": [
        {
          "output_type": "stream",
          "name": "stdout",
          "text": [
            "Sticks and Stone.mp4 downloaded!\n",
            "\n"
          ]
        }
      ],
      "metadata": {
        "colab": {
          "base_uri": "https://localhost:8080/"
        },
        "id": "kJaygkr5TKLC",
        "outputId": "65042174-40ae-4eb0-d277-bc1b5a9ab1bd"
      }
    },
    {
      "cell_type": "markdown",
      "source": [
        "# Define Download Functions\n",
        "---"
      ],
      "metadata": {}
    },
    {
      "cell_type": "markdown",
      "source": [
        "Import modules again to start from this cell:"
      ],
      "metadata": {}
    },
    {
      "cell_type": "code",
      "execution_count": 6,
      "source": [
        "import os\n",
        "from pytube import YouTube"
      ],
      "outputs": [],
      "metadata": {
        "id": "UIe6vwzrW2Md"
      }
    },
    {
      "cell_type": "markdown",
      "source": [
        "## **Video** *Download* and *Conversion* Functions"
      ],
      "metadata": {}
    },
    {
      "cell_type": "markdown",
      "source": [
        "Download function:\n",
        "* download first video stream with `pytube`"
      ],
      "metadata": {}
    },
    {
      "cell_type": "code",
      "execution_count": 23,
      "source": [
        "def download_video(youtube_url, song_title, file_path='.'):\n",
        "  video_filename = song_title + \".mp4\"\n",
        "  yt_obj = YouTube(youtube_url)\n",
        "  video = yt_obj.streams.first()\n",
        "  video.download(output_path=file_path, filename=video_filename)"
      ],
      "outputs": [],
      "metadata": {}
    },
    {
      "cell_type": "markdown",
      "source": [
        "Conversion Function:\n",
        "* run `ffmpeg` with `os.system()` module"
      ],
      "metadata": {}
    },
    {
      "cell_type": "code",
      "execution_count": 25,
      "source": [
        "def convert_to_audio(song_title, file_path='.', output_type=\"mp3\"):\n",
        "    vid = f'{song_title}.mp4'\n",
        "    audio = f'{song_title}.{output_type}'\n",
        "\n",
        "    # set variable with path to video and audio files\n",
        "    vid_path = os.path.join(file_path, vid)\n",
        "    audio_path = os.path.join(file_path, audio)\n",
        "    \n",
        "    # call `ffmpeg` to transform to output format\n",
        "    os.system(f\"ffmpeg -i '{vid_path}' '{audio_path}'\")"
      ],
      "outputs": [
        {
          "output_type": "stream",
          "name": "stderr",
          "text": [
            "/Users/colbyr/miniconda3/lib/python3.9/site-packages/ipykernel/ipkernel.py:287: DeprecationWarning: `should_run_async` will not call `transform_cell` automatically in the future. Please pass the result to `transformed_cell` argument and any exception that happen during thetransform in `preprocessing_exc_tuple` in IPython 7.17 and above.\n",
            "  and should_run_async(code)\n"
          ]
        }
      ],
      "metadata": {}
    },
    {
      "cell_type": "markdown",
      "source": [
        "## **Audio** Download Function\n",
        "* Download audio using `.filter(only_audio)` option from `pytube`"
      ],
      "metadata": {}
    },
    {
      "cell_type": "code",
      "execution_count": 26,
      "source": [
        "def download_audio(youtube_url, song_title, file_path='.'):\n",
        "  audio_filename = f\"{song_title}.mp3\"\n",
        "  yt_obj = YouTube(youtube_url)\n",
        "  audio = yt_obj.streams.filter(only_audio=True).first()\n",
        "  audio.download(output_path=file_path, filename=audio_filename)"
      ],
      "outputs": [],
      "metadata": {}
    },
    {
      "cell_type": "markdown",
      "source": [
        "Test download function"
      ],
      "metadata": {
        "id": "MMdNwDnEePCP"
      }
    },
    {
      "cell_type": "code",
      "execution_count": 37,
      "source": [
        "youtube_video_url = \"https://www.youtube.com/watch?v=YWhSQpUNGgY\"\n",
        "\n",
        "fname = \"01 Sticks and Stones\"\n",
        "\n",
        "output_path = \"./downloads\"\n",
        "\n",
        "download_audio(youtube_video_url, fname, output_path)"
      ],
      "outputs": [
        {
          "output_type": "stream",
          "name": "stderr",
          "text": [
            "/Users/colbyr/miniconda3/lib/python3.9/site-packages/ipykernel/ipkernel.py:287: DeprecationWarning: `should_run_async` will not call `transform_cell` automatically in the future. Please pass the result to `transformed_cell` argument and any exception that happen during thetransform in `preprocessing_exc_tuple` in IPython 7.17 and above.\n",
            "  and should_run_async(code)\n"
          ]
        }
      ],
      "metadata": {}
    },
    {
      "cell_type": "markdown",
      "source": [
        "# Edit Metadata\n",
        "---"
      ],
      "metadata": {}
    },
    {
      "cell_type": "markdown",
      "source": [
        "## Edit ID3 Tags\n",
        "Use either `mutagen` or `eyeD3`\n",
        "* [mutagen](https://mutagen.readthedocs.io/en/latest/): `pip install mutagen`\n",
        "* [eyeD3](https://eyed3.readthedocs.io/en/latest/): `pip install eyed3` "
      ],
      "metadata": {
        "id": "sk2hCs0CtjP9"
      }
    },
    {
      "cell_type": "markdown",
      "source": [
        "### Check current metadata \n",
        "Use `ffprobe`, included in `ffmpeg` binary, to return the metadata currently attributed to the `.mp3` file"
      ],
      "metadata": {}
    },
    {
      "cell_type": "code",
      "execution_count": 61,
      "source": [
        "import subprocess\n",
        "!ffprobe \"./downloads/01 Sticks and Stones.mp3\""
      ],
      "outputs": [
        {
          "output_type": "stream",
          "name": "stdout",
          "text": [
            "ffprobe version 4.3.1 Copyright (c) 2007-2020 the FFmpeg developers\n",
            "  built with clang version 11.0.0\n",
            "  configuration: --prefix=/Users/colbyr/miniconda3 --cc=x86_64-apple-darwin13.4.0-clang --disable-doc --disable-openssl --enable-avresample --enable-gnutls --enable-gpl --enable-hardcoded-tables --enable-libfreetype --enable-libopenh264 --enable-libx264 --enable-pic --enable-pthreads --enable-shared --enable-static --enable-version3 --enable-zlib --enable-libmp3lame --pkg-config=/Users/runner/miniforge3/conda-bld/ffmpeg_1609681034781/_build_env/bin/pkg-config\n",
            "  libavutil      56. 51.100 / 56. 51.100\n",
            "  libavcodec     58. 91.100 / 58. 91.100\n",
            "  libavformat    58. 45.100 / 58. 45.100\n",
            "  libavdevice    58. 10.100 / 58. 10.100\n",
            "  libavfilter     7. 85.100 /  7. 85.100\n",
            "  libavresample   4.  0.  0 /  4.  0.  0\n",
            "  libswscale      5.  7.100 /  5.  7.100\n",
            "  libswresample   3.  7.100 /  3.  7.100\n",
            "  libpostproc    55.  7.100 / 55.  7.100\n",
            "Input #0, mov,mp4,m4a,3gp,3g2,mj2, from './downloads/01 Sticks and Stones.mp3':\n",
            "  Metadata:\n",
            "    major_brand     : dash\n",
            "    minor_version   : 0\n",
            "    compatible_brands: iso6mp41\n",
            "    creation_time   : 2018-11-20T17:47:22.000000Z\n",
            "  Duration: 00:06:10.45, start: 0.000000, bitrate: 48 kb/s\n",
            "    Stream #0:0(und): Audio: aac (HE-AAC) (mp4a / 0x6134706D), 44100 Hz, stereo, fltp, 1 kb/s (default)\n",
            "    Metadata:\n",
            "      creation_time   : 2018-11-20T17:47:22.000000Z\n",
            "      handler_name    : ISO Media file produced by Google Inc. Created on: 11/20/2018.\n"
          ]
        },
        {
          "output_type": "stream",
          "name": "stderr",
          "text": [
            "/Users/colbyr/miniconda3/lib/python3.9/site-packages/ipykernel/ipkernel.py:287: DeprecationWarning: `should_run_async` will not call `transform_cell` automatically in the future. Please pass the result to `transformed_cell` argument and any exception that happen during thetransform in `preprocessing_exc_tuple` in IPython 7.17 and above.\n",
            "  and should_run_async(code)\n"
          ]
        }
      ],
      "metadata": {}
    },
    {
      "cell_type": "markdown",
      "source": [
        "### Install and Test `eyeD3`"
      ],
      "metadata": {
        "id": "zAz3hFJ7Zd7D"
      }
    },
    {
      "cell_type": "code",
      "execution_count": null,
      "source": [
        "!pip install eyed3"
      ],
      "outputs": [],
      "metadata": {}
    },
    {
      "cell_type": "code",
      "execution_count": 87,
      "source": [
        "import eyed3"
      ],
      "outputs": [
        {
          "output_type": "stream",
          "name": "stderr",
          "text": [
            "/Users/colbyr/miniconda3/lib/python3.9/site-packages/ipykernel/ipkernel.py:287: DeprecationWarning: `should_run_async` will not call `transform_cell` automatically in the future. Please pass the result to `transformed_cell` argument and any exception that happen during thetransform in `preprocessing_exc_tuple` in IPython 7.17 and above.\n",
            "  and should_run_async(code)\n"
          ]
        }
      ],
      "metadata": {}
    },
    {
      "cell_type": "code",
      "execution_count": 97,
      "source": [
        "path = \"./downloads/01 Sticks and Stones.mp3\"\n",
        "\n",
        "audio_file = eyed3.mp3.Mp3AudioFile(path)\n",
        "audio_file.initTag()\n",
        "audio_file.tag.artist = \"Kings Kaleidoscope\"\n",
        "audio_file.tag.album = \"Beauty Between\"\n",
        "audio_file.tag.genre = \"Alternative\"\n",
        "audio_file.tag.track_num = 1\n",
        "\n",
        "audio_file.tag.save()"
      ],
      "outputs": [
        {
          "output_type": "stream",
          "name": "stderr",
          "text": [
            "/Users/colbyr/miniconda3/lib/python3.9/site-packages/ipykernel/ipkernel.py:287: DeprecationWarning: `should_run_async` will not call `transform_cell` automatically in the future. Please pass the result to `transformed_cell` argument and any exception that happen during thetransform in `preprocessing_exc_tuple` in IPython 7.17 and above.\n",
            "  and should_run_async(code)\n"
          ]
        }
      ],
      "metadata": {}
    },
    {
      "cell_type": "code",
      "execution_count": 98,
      "source": [
        "!ffprobe './downloads/01 Sticks and Stones.mp3'"
      ],
      "outputs": [
        {
          "output_type": "stream",
          "name": "stdout",
          "text": [
            "ffprobe version 4.3.1 Copyright (c) 2007-2020 the FFmpeg developers\n",
            "  built with clang version 11.0.0\n",
            "  configuration: --prefix=/Users/colbyr/miniconda3 --cc=x86_64-apple-darwin13.4.0-clang --disable-doc --disable-openssl --enable-avresample --enable-gnutls --enable-gpl --enable-hardcoded-tables --enable-libfreetype --enable-libopenh264 --enable-libx264 --enable-pic --enable-pthreads --enable-shared --enable-static --enable-version3 --enable-zlib --enable-libmp3lame --pkg-config=/Users/runner/miniforge3/conda-bld/ffmpeg_1609681034781/_build_env/bin/pkg-config\n",
            "  libavutil      56. 51.100 / 56. 51.100\n",
            "  libavcodec     58. 91.100 / 58. 91.100\n",
            "  libavformat    58. 45.100 / 58. 45.100\n",
            "  libavdevice    58. 10.100 / 58. 10.100\n",
            "  libavfilter     7. 85.100 /  7. 85.100\n",
            "  libavresample   4.  0.  0 /  4.  0.  0\n",
            "  libswscale      5.  7.100 /  5.  7.100\n",
            "  libswresample   3.  7.100 /  3.  7.100\n",
            "  libpostproc    55.  7.100 / 55.  7.100\n",
            "\u001b[0;35m[mov,mp4,m4a,3gp,3g2,mj2 @ 0x7f90f700ca00] \u001b[0m\u001b[0;33mDiscarding ID3 tags because more suitable tags were found.\n",
            "\u001b[0mInput #0, mov,mp4,m4a,3gp,3g2,mj2, from './downloads/01 Sticks and Stones.mp3':\n",
            "  Metadata:\n",
            "    major_brand     : dash\n",
            "    minor_version   : 0\n",
            "    compatible_brands: iso6mp41\n",
            "    creation_time   : 2018-11-20T17:47:22.000000Z\n",
            "  Duration: 00:06:10.45, start: 0.000000, bitrate: 48 kb/s\n",
            "    Stream #0:0(und): Audio: aac (HE-AAC) (mp4a / 0x6134706D), 44100 Hz, stereo, fltp, 1 kb/s (default)\n",
            "    Metadata:\n",
            "      creation_time   : 2018-11-20T17:47:22.000000Z\n",
            "      handler_name    : ISO Media file produced by Google Inc. Created on: 11/20/2018.\n"
          ]
        }
      ],
      "metadata": {}
    },
    {
      "cell_type": "code",
      "execution_count": 120,
      "source": [
        "af = eyed3.load(path)\n",
        "af.tag.album = \"Beauty Between\"\n",
        "af.tag.artist = \"Kings Kaleidoscope\" \n",
        "\n",
        "af.tag.save()"
      ],
      "outputs": [
        {
          "output_type": "stream",
          "name": "stderr",
          "text": [
            "/Users/colbyr/miniconda3/lib/python3.9/site-packages/ipykernel/ipkernel.py:287: DeprecationWarning: `should_run_async` will not call `transform_cell` automatically in the future. Please pass the result to `transformed_cell` argument and any exception that happen during thetransform in `preprocessing_exc_tuple` in IPython 7.17 and above.\n",
            "  and should_run_async(code)\n"
          ]
        }
      ],
      "metadata": {}
    },
    {
      "cell_type": "code",
      "execution_count": 121,
      "source": [
        "print(af.tag.title)"
      ],
      "outputs": [
        {
          "output_type": "stream",
          "name": "stdout",
          "text": [
            "None\n"
          ]
        }
      ],
      "metadata": {}
    },
    {
      "cell_type": "code",
      "execution_count": 108,
      "source": [
        "!ffprobe \"./downloads/01 Sticks and Stones.mp3\""
      ],
      "outputs": [
        {
          "output_type": "stream",
          "name": "stdout",
          "text": [
            "ffprobe version 4.3.1 Copyright (c) 2007-2020 the FFmpeg developers\n",
            "  built with clang version 11.0.0\n",
            "  configuration: --prefix=/Users/colbyr/miniconda3 --cc=x86_64-apple-darwin13.4.0-clang --disable-doc --disable-openssl --enable-avresample --enable-gnutls --enable-gpl --enable-hardcoded-tables --enable-libfreetype --enable-libopenh264 --enable-libx264 --enable-pic --enable-pthreads --enable-shared --enable-static --enable-version3 --enable-zlib --enable-libmp3lame --pkg-config=/Users/runner/miniforge3/conda-bld/ffmpeg_1609681034781/_build_env/bin/pkg-config\n",
            "  libavutil      56. 51.100 / 56. 51.100\n",
            "  libavcodec     58. 91.100 / 58. 91.100\n",
            "  libavformat    58. 45.100 / 58. 45.100\n",
            "  libavdevice    58. 10.100 / 58. 10.100\n",
            "  libavfilter     7. 85.100 /  7. 85.100\n",
            "  libavresample   4.  0.  0 /  4.  0.  0\n",
            "  libswscale      5.  7.100 /  5.  7.100\n",
            "  libswresample   3.  7.100 /  3.  7.100\n",
            "  libpostproc    55.  7.100 / 55.  7.100\n",
            "\u001b[0;35m[mov,mp4,m4a,3gp,3g2,mj2 @ 0x7f9b2400be00] \u001b[0m\u001b[0;33mDiscarding ID3 tags because more suitable tags were found.\n",
            "\u001b[0mInput #0, mov,mp4,m4a,3gp,3g2,mj2, from './downloads/01 Sticks and Stones.mp3':\n",
            "  Metadata:\n",
            "    major_brand     : dash\n",
            "    minor_version   : 0\n",
            "    compatible_brands: iso6mp41\n",
            "    creation_time   : 2018-11-20T17:47:22.000000Z\n",
            "  Duration: 00:06:10.45, start: 0.000000, bitrate: 48 kb/s\n",
            "    Stream #0:0(und): Audio: aac (HE-AAC) (mp4a / 0x6134706D), 44100 Hz, stereo, fltp, 1 kb/s (default)\n",
            "    Metadata:\n",
            "      creation_time   : 2018-11-20T17:47:22.000000Z\n",
            "      handler_name    : ISO Media file produced by Google Inc. Created on: 11/20/2018.\n"
          ]
        },
        {
          "output_type": "stream",
          "name": "stderr",
          "text": [
            "/Users/colbyr/miniconda3/lib/python3.9/site-packages/ipykernel/ipkernel.py:287: DeprecationWarning: `should_run_async` will not call `transform_cell` automatically in the future. Please pass the result to `transformed_cell` argument and any exception that happen during thetransform in `preprocessing_exc_tuple` in IPython 7.17 and above.\n",
            "  and should_run_async(code)\n"
          ]
        }
      ],
      "metadata": {}
    },
    {
      "cell_type": "markdown",
      "source": [
        "### Using `Mutagen`\n",
        "* `eyed3` seems to be having problems and documentation is inconsistent with available version(s) \n",
        "* also seems like iTunes mainly uses `.m4a` or `.m4p` file type, which `mutagen` explicitly supports\n",
        "\n",
        "$\\rightarrow$ switching to trying out `mutagen`\n",
        "\n",
        "### Helpful Notes for using `Mutagen`:\n",
        "* The `ytmdl` repo ([here](https://github.com/deepjyoti30/ytmdl/tree/b016582520b9209a7481d7d8b18c8befd889e477)) is really helpful for referencing methods to add metadata (either manually or by searching Spotify/iTunes/etc)\n",
        "* See [Mutagen docs](https://mutagen.readthedocs.io/en/latest/api/mp4.html#mutagen.mp4.MP4Tags) for `ID3 tag` keys"
      ],
      "metadata": {
        "id": "O4hQPY4FzDy_"
      }
    },
    {
      "cell_type": "code",
      "execution_count": 123,
      "source": [
        "!pip install mutagen"
      ],
      "outputs": [
        {
          "output_type": "stream",
          "name": "stdout",
          "text": [
            "Requirement already satisfied: mutagen in /Users/colbyr/miniconda3/lib/python3.9/site-packages (1.45.1)\n"
          ]
        }
      ],
      "metadata": {}
    },
    {
      "cell_type": "markdown",
      "source": [
        "Import `mutagen` modules"
      ],
      "metadata": {}
    },
    {
      "cell_type": "code",
      "execution_count": 1,
      "source": [
        "from mutagen.id3 import (\n",
        "    ID3,\n",
        "    APIC,\n",
        "    TIT2,\n",
        "    TPE1,\n",
        "    TALB,\n",
        "    TCON,\n",
        "    TRCK,\n",
        "    TYER,\n",
        "    PictureType\n",
        ")\n",
        "from mutagen.mp3 import MP3\n",
        "from mutagen.mp4 import MP4, MP4Cover\n",
        "from mutagen import File"
      ],
      "outputs": [],
      "metadata": {}
    },
    {
      "cell_type": "markdown",
      "source": [
        "Set audio path and `MP4` object"
      ],
      "metadata": {}
    },
    {
      "cell_type": "code",
      "execution_count": 34,
      "source": [
        "song_path = \"downloads/sleep.m4a\"\n",
        "audio = MP4(song_path)"
      ],
      "outputs": [],
      "metadata": {}
    },
    {
      "cell_type": "markdown",
      "source": [
        "Initialize tags if tags do not already exist"
      ],
      "metadata": {}
    },
    {
      "cell_type": "code",
      "execution_count": 38,
      "source": [
        "try:\n",
        "    audio.add_tags()\n",
        "except Exception as e:\n",
        "    print(e)\n",
        "\n",
        "audio.save()"
      ],
      "outputs": [
        {
          "output_type": "stream",
          "name": "stdout",
          "text": [
            "an MP4 tag already exists\n"
          ]
        }
      ],
      "metadata": {}
    },
    {
      "cell_type": "markdown",
      "source": [
        "Use `ffprobe` to check metadata before editing with `mutagen`"
      ],
      "metadata": {}
    },
    {
      "cell_type": "code",
      "execution_count": 39,
      "source": [
        "!ffprobe \"./downloads/sleep.m4a\""
      ],
      "outputs": [
        {
          "output_type": "stream",
          "name": "stdout",
          "text": [
            "ffprobe version 4.3.1 Copyright (c) 2007-2020 the FFmpeg developers\n",
            "  built with clang version 11.0.0\n",
            "  configuration: --prefix=/Users/colbyr/miniconda3 --cc=x86_64-apple-darwin13.4.0-clang --disable-doc --disable-openssl --enable-avresample --enable-gnutls --enable-gpl --enable-hardcoded-tables --enable-libfreetype --enable-libopenh264 --enable-libx264 --enable-pic --enable-pthreads --enable-shared --enable-static --enable-version3 --enable-zlib --enable-libmp3lame --pkg-config=/Users/runner/miniforge3/conda-bld/ffmpeg_1609681034781/_build_env/bin/pkg-config\n",
            "  libavutil      56. 51.100 / 56. 51.100\n",
            "  libavcodec     58. 91.100 / 58. 91.100\n",
            "  libavformat    58. 45.100 / 58. 45.100\n",
            "  libavdevice    58. 10.100 / 58. 10.100\n",
            "  libavfilter     7. 85.100 /  7. 85.100\n",
            "  libavresample   4.  0.  0 /  4.  0.  0\n",
            "  libswscale      5.  7.100 /  5.  7.100\n",
            "  libswresample   3.  7.100 /  3.  7.100\n",
            "  libpostproc    55.  7.100 / 55.  7.100\n",
            "Input #0, mov,mp4,m4a,3gp,3g2,mj2, from './downloads/sleep.m4a':\n",
            "  Metadata:\n",
            "    major_brand     : M4A \n",
            "    minor_version   : 512\n",
            "    compatible_brands: M4A isomiso2\n",
            "    encoder         : Lavf58.45.100\n",
            "  Duration: 08:14:40.14, start: 0.000000, bitrate: 130 kb/s\n",
            "    Stream #0:0(und): Audio: aac (LC) (mp4a / 0x6134706D), 44100 Hz, stereo, fltp, 128 kb/s (default)\n",
            "    Metadata:\n",
            "      handler_name    : ISO Media file produced by Google Inc.\n"
          ]
        }
      ],
      "metadata": {}
    },
    {
      "cell_type": "markdown",
      "source": [
        "Set variables to be used in ID3 tag editing"
      ],
      "metadata": {}
    },
    {
      "cell_type": "code",
      "execution_count": 40,
      "source": [
        "track_name = \"Sleep Music (Binaural Beats)\"\n",
        "collection_name = \"Sleep\"\n",
        "artist_name = \"GreenRed Productions\"\n",
        "primary_genre_name = \"Binaural Beats\"\n",
        "release_date = \"2018\""
      ],
      "outputs": [],
      "metadata": {}
    },
    {
      "cell_type": "markdown",
      "source": [
        "See [Mutagen docs](https://mutagen.readthedocs.io/en/latest/api/mp4.html#mutagen.mp4.MP4Tags) for `ID3 tag` keys"
      ],
      "metadata": {}
    },
    {
      "cell_type": "code",
      "execution_count": 51,
      "source": [
        "# tag keys here: https://mutagen.readthedocs.io/en/latest/api/mp4.html#mutagen.mp4.MP4Tags\n",
        "\n",
        "audio[\"\\xa9nam\"] = track_name\n",
        "audio[\"\\xa9alb\"] = collection_name\n",
        "audio[\"\\xa9ART\"] = artist_name\n",
        "audio[\"\\xa9day\"] = release_date\n",
        "audio[\"\\xa9gen\"] = primary_genre_name"
      ],
      "outputs": [],
      "metadata": {}
    },
    {
      "cell_type": "markdown",
      "source": [
        "Save edited tags"
      ],
      "metadata": {}
    },
    {
      "cell_type": "code",
      "execution_count": 42,
      "source": [
        "audio.save()"
      ],
      "outputs": [],
      "metadata": {}
    },
    {
      "cell_type": "markdown",
      "source": [
        "Check metadata with `ffprobe` post-editing"
      ],
      "metadata": {}
    },
    {
      "cell_type": "code",
      "execution_count": 44,
      "source": [
        "!ffprobe \"./downloads/sleep.m4a\""
      ],
      "outputs": [
        {
          "output_type": "stream",
          "name": "stdout",
          "text": [
            "ffprobe version 4.3.1 Copyright (c) 2007-2020 the FFmpeg developers\n",
            "  built with clang version 11.0.0\n",
            "  configuration: --prefix=/Users/colbyr/miniconda3 --cc=x86_64-apple-darwin13.4.0-clang --disable-doc --disable-openssl --enable-avresample --enable-gnutls --enable-gpl --enable-hardcoded-tables --enable-libfreetype --enable-libopenh264 --enable-libx264 --enable-pic --enable-pthreads --enable-shared --enable-static --enable-version3 --enable-zlib --enable-libmp3lame --pkg-config=/Users/runner/miniforge3/conda-bld/ffmpeg_1609681034781/_build_env/bin/pkg-config\n",
            "  libavutil      56. 51.100 / 56. 51.100\n",
            "  libavcodec     58. 91.100 / 58. 91.100\n",
            "  libavformat    58. 45.100 / 58. 45.100\n",
            "  libavdevice    58. 10.100 / 58. 10.100\n",
            "  libavfilter     7. 85.100 /  7. 85.100\n",
            "  libavresample   4.  0.  0 /  4.  0.  0\n",
            "  libswscale      5.  7.100 /  5.  7.100\n",
            "  libswresample   3.  7.100 /  3.  7.100\n",
            "  libpostproc    55.  7.100 / 55.  7.100\n",
            "Input #0, mov,mp4,m4a,3gp,3g2,mj2, from './downloads/sleep.m4a':\n",
            "  Metadata:\n",
            "    major_brand     : M4A \n",
            "    minor_version   : 512\n",
            "    compatible_brands: M4A isomiso2\n",
            "    title           : Sleep Music (Binaural Beats)\n",
            "    artist          : GreenRed Productions\n",
            "    album           : Sleep\n",
            "    genre           : Binaural Beats\n",
            "    date            : 2018\n",
            "    encoder         : Lavf58.45.100\n",
            "  Duration: 08:14:40.14, start: 0.000000, bitrate: 130 kb/s\n",
            "    Stream #0:0(und): Audio: aac (LC) (mp4a / 0x6134706D), 44100 Hz, stereo, fltp, 128 kb/s (default)\n",
            "    Metadata:\n",
            "      handler_name    : ISO Media file produced by Google Inc.\n"
          ]
        }
      ],
      "metadata": {}
    },
    {
      "cell_type": "markdown",
      "source": [
        "# Export to iTunes/Apple-Music"
      ],
      "metadata": {}
    },
    {
      "cell_type": "markdown",
      "source": [
        "## Test methods for accessing Music Library"
      ],
      "metadata": {}
    },
    {
      "cell_type": "markdown",
      "source": [
        "### Connect to `.itl` or `.musiclibrary` file"
      ],
      "metadata": {}
    },
    {
      "cell_type": "markdown",
      "source": [
        "### Edit and Re-Import `.xml` file from Music `export` function\n",
        "Helpful articles:\n",
        "* This [article](https://keystrokecountdown.com/articles/itunes/index.html) (note: written in `python2`, but principles should be transferrable)\n",
        "    * makes use of `plistlib` module (docs [here](https://docs.python.org/3/library/plistlib.html))\n",
        "* This [tutorial](https://junschoi.github.io/posts/itunes_library_analysis/) on analyzing iTunes data\n",
        "    * utilizes `ElementTree` module from `xml.etree`"
      ],
      "metadata": {}
    },
    {
      "cell_type": "code",
      "execution_count": 65,
      "source": [
        "import plistlib\n",
        "import xml.etree.ElementTree as ET\n",
        "import pandas as pd"
      ],
      "outputs": [],
      "metadata": {}
    },
    {
      "cell_type": "code",
      "execution_count": 66,
      "source": [
        "lib_path = \"test_library/Library.xml\"\n",
        "tree = ET.parse(lib_path)\n",
        "root = tree.getroot()"
      ],
      "outputs": [],
      "metadata": {}
    },
    {
      "cell_type": "code",
      "execution_count": 68,
      "source": [
        "root_lst = []\n",
        "\n",
        "for i,x in enumerate(root[0]):\n",
        "    root_lst.append([x.text, x.tag, x.tail, x.attrib])\n",
        "\n",
        "music_df = pd.DataFrame(root_lst, columns=[\"text\", \"tag\", \"tail\", \"attrib\"])"
      ],
      "outputs": [],
      "metadata": {}
    },
    {
      "cell_type": "code",
      "execution_count": 74,
      "source": [
        "music_df"
      ],
      "outputs": [
        {
          "output_type": "execute_result",
          "data": {
            "text/html": [
              "<div>\n",
              "<style scoped>\n",
              "    .dataframe tbody tr th:only-of-type {\n",
              "        vertical-align: middle;\n",
              "    }\n",
              "\n",
              "    .dataframe tbody tr th {\n",
              "        vertical-align: top;\n",
              "    }\n",
              "\n",
              "    .dataframe thead th {\n",
              "        text-align: right;\n",
              "    }\n",
              "</style>\n",
              "<table border=\"1\" class=\"dataframe\">\n",
              "  <thead>\n",
              "    <tr style=\"text-align: right;\">\n",
              "      <th></th>\n",
              "      <th>text</th>\n",
              "      <th>tag</th>\n",
              "      <th>tail</th>\n",
              "      <th>attrib</th>\n",
              "    </tr>\n",
              "  </thead>\n",
              "  <tbody>\n",
              "    <tr>\n",
              "      <th>0</th>\n",
              "      <td>Major Version</td>\n",
              "      <td>key</td>\n",
              "      <td>None</td>\n",
              "      <td>{}</td>\n",
              "    </tr>\n",
              "    <tr>\n",
              "      <th>1</th>\n",
              "      <td>1</td>\n",
              "      <td>integer</td>\n",
              "      <td>\\n\\t</td>\n",
              "      <td>{}</td>\n",
              "    </tr>\n",
              "    <tr>\n",
              "      <th>2</th>\n",
              "      <td>Minor Version</td>\n",
              "      <td>key</td>\n",
              "      <td>None</td>\n",
              "      <td>{}</td>\n",
              "    </tr>\n",
              "    <tr>\n",
              "      <th>3</th>\n",
              "      <td>1</td>\n",
              "      <td>integer</td>\n",
              "      <td>\\n\\t</td>\n",
              "      <td>{}</td>\n",
              "    </tr>\n",
              "    <tr>\n",
              "      <th>4</th>\n",
              "      <td>Date</td>\n",
              "      <td>key</td>\n",
              "      <td>None</td>\n",
              "      <td>{}</td>\n",
              "    </tr>\n",
              "    <tr>\n",
              "      <th>5</th>\n",
              "      <td>2021-09-13T22:38:39Z</td>\n",
              "      <td>date</td>\n",
              "      <td>\\n\\t</td>\n",
              "      <td>{}</td>\n",
              "    </tr>\n",
              "    <tr>\n",
              "      <th>6</th>\n",
              "      <td>Application Version</td>\n",
              "      <td>key</td>\n",
              "      <td>None</td>\n",
              "      <td>{}</td>\n",
              "    </tr>\n",
              "    <tr>\n",
              "      <th>7</th>\n",
              "      <td>1.0.6.10</td>\n",
              "      <td>string</td>\n",
              "      <td>\\n\\t</td>\n",
              "      <td>{}</td>\n",
              "    </tr>\n",
              "    <tr>\n",
              "      <th>8</th>\n",
              "      <td>Features</td>\n",
              "      <td>key</td>\n",
              "      <td>None</td>\n",
              "      <td>{}</td>\n",
              "    </tr>\n",
              "    <tr>\n",
              "      <th>9</th>\n",
              "      <td>5</td>\n",
              "      <td>integer</td>\n",
              "      <td>\\n\\t</td>\n",
              "      <td>{}</td>\n",
              "    </tr>\n",
              "    <tr>\n",
              "      <th>10</th>\n",
              "      <td>Show Content Ratings</td>\n",
              "      <td>key</td>\n",
              "      <td>None</td>\n",
              "      <td>{}</td>\n",
              "    </tr>\n",
              "    <tr>\n",
              "      <th>11</th>\n",
              "      <td>None</td>\n",
              "      <td>true</td>\n",
              "      <td>\\n\\t</td>\n",
              "      <td>{}</td>\n",
              "    </tr>\n",
              "    <tr>\n",
              "      <th>12</th>\n",
              "      <td>Music Folder</td>\n",
              "      <td>key</td>\n",
              "      <td>None</td>\n",
              "      <td>{}</td>\n",
              "    </tr>\n",
              "    <tr>\n",
              "      <th>13</th>\n",
              "      <td>file:///Users/colbyr/Music/iTunes/iTunes%20Media/</td>\n",
              "      <td>string</td>\n",
              "      <td>\\n\\t</td>\n",
              "      <td>{}</td>\n",
              "    </tr>\n",
              "    <tr>\n",
              "      <th>14</th>\n",
              "      <td>Library Persistent ID</td>\n",
              "      <td>key</td>\n",
              "      <td>None</td>\n",
              "      <td>{}</td>\n",
              "    </tr>\n",
              "    <tr>\n",
              "      <th>15</th>\n",
              "      <td>1AA03F5B36709B5A</td>\n",
              "      <td>string</td>\n",
              "      <td>\\n\\t</td>\n",
              "      <td>{}</td>\n",
              "    </tr>\n",
              "    <tr>\n",
              "      <th>16</th>\n",
              "      <td>Tracks</td>\n",
              "      <td>key</td>\n",
              "      <td>\\n\\t</td>\n",
              "      <td>{}</td>\n",
              "    </tr>\n",
              "    <tr>\n",
              "      <th>17</th>\n",
              "      <td>\\n\\t\\t</td>\n",
              "      <td>dict</td>\n",
              "      <td>\\n\\t</td>\n",
              "      <td>{}</td>\n",
              "    </tr>\n",
              "    <tr>\n",
              "      <th>18</th>\n",
              "      <td>Playlists</td>\n",
              "      <td>key</td>\n",
              "      <td>\\n\\t</td>\n",
              "      <td>{}</td>\n",
              "    </tr>\n",
              "    <tr>\n",
              "      <th>19</th>\n",
              "      <td>\\n\\t\\t</td>\n",
              "      <td>array</td>\n",
              "      <td>\\n</td>\n",
              "      <td>{}</td>\n",
              "    </tr>\n",
              "  </tbody>\n",
              "</table>\n",
              "</div>"
            ],
            "text/plain": [
              "                                                 text      tag  tail attrib\n",
              "0                                       Major Version      key  None     {}\n",
              "1                                                   1  integer  \\n\\t     {}\n",
              "2                                       Minor Version      key  None     {}\n",
              "3                                                   1  integer  \\n\\t     {}\n",
              "4                                                Date      key  None     {}\n",
              "5                                2021-09-13T22:38:39Z     date  \\n\\t     {}\n",
              "6                                 Application Version      key  None     {}\n",
              "7                                            1.0.6.10   string  \\n\\t     {}\n",
              "8                                            Features      key  None     {}\n",
              "9                                                   5  integer  \\n\\t     {}\n",
              "10                               Show Content Ratings      key  None     {}\n",
              "11                                               None     true  \\n\\t     {}\n",
              "12                                       Music Folder      key  None     {}\n",
              "13  file:///Users/colbyr/Music/iTunes/iTunes%20Media/   string  \\n\\t     {}\n",
              "14                              Library Persistent ID      key  None     {}\n",
              "15                                   1AA03F5B36709B5A   string  \\n\\t     {}\n",
              "16                                             Tracks      key  \\n\\t     {}\n",
              "17                                             \\n\\t\\t     dict  \\n\\t     {}\n",
              "18                                          Playlists      key  \\n\\t     {}\n",
              "19                                             \\n\\t\\t    array    \\n     {}"
            ]
          },
          "metadata": {},
          "execution_count": 74
        }
      ],
      "metadata": {}
    },
    {
      "cell_type": "code",
      "execution_count": 92,
      "source": [
        "track_lst = []\n",
        "for x in root[0][17]:\n",
        "    track_lst.append([x.text, x.tag])\n",
        "\n",
        "track_df = pd.DataFrame(track_lst, columns = ['text', 'tag'])"
      ],
      "outputs": [],
      "metadata": {}
    },
    {
      "cell_type": "code",
      "execution_count": 93,
      "source": [
        "track_df.head()"
      ],
      "outputs": [
        {
          "output_type": "execute_result",
          "data": {
            "text/html": [
              "<div>\n",
              "<style scoped>\n",
              "    .dataframe tbody tr th:only-of-type {\n",
              "        vertical-align: middle;\n",
              "    }\n",
              "\n",
              "    .dataframe tbody tr th {\n",
              "        vertical-align: top;\n",
              "    }\n",
              "\n",
              "    .dataframe thead th {\n",
              "        text-align: right;\n",
              "    }\n",
              "</style>\n",
              "<table border=\"1\" class=\"dataframe\">\n",
              "  <thead>\n",
              "    <tr style=\"text-align: right;\">\n",
              "      <th></th>\n",
              "      <th>text</th>\n",
              "      <th>tag</th>\n",
              "    </tr>\n",
              "  </thead>\n",
              "  <tbody>\n",
              "    <tr>\n",
              "      <th>0</th>\n",
              "      <td>232</td>\n",
              "      <td>key</td>\n",
              "    </tr>\n",
              "    <tr>\n",
              "      <th>1</th>\n",
              "      <td>\\n\\t\\t\\t</td>\n",
              "      <td>dict</td>\n",
              "    </tr>\n",
              "    <tr>\n",
              "      <th>2</th>\n",
              "      <td>235</td>\n",
              "      <td>key</td>\n",
              "    </tr>\n",
              "    <tr>\n",
              "      <th>3</th>\n",
              "      <td>\\n\\t\\t\\t</td>\n",
              "      <td>dict</td>\n",
              "    </tr>\n",
              "    <tr>\n",
              "      <th>4</th>\n",
              "      <td>238</td>\n",
              "      <td>key</td>\n",
              "    </tr>\n",
              "  </tbody>\n",
              "</table>\n",
              "</div>"
            ],
            "text/plain": [
              "       text   tag\n",
              "0       232   key\n",
              "1  \\n\\t\\t\\t  dict\n",
              "2       235   key\n",
              "3  \\n\\t\\t\\t  dict\n",
              "4       238   key"
            ]
          },
          "metadata": {},
          "execution_count": 93
        }
      ],
      "metadata": {}
    },
    {
      "cell_type": "code",
      "execution_count": 172,
      "source": [
        "song_lst = []\n",
        "for x in root[0][17][1]: # [1] because we are parsing only the first track\n",
        "    song_lst.append([x.text, x.tag])\n",
        "\n",
        "song_df = pd.DataFrame(song_lst)"
      ],
      "outputs": [],
      "metadata": {}
    },
    {
      "cell_type": "code",
      "execution_count": 175,
      "source": [
        "song_df"
      ],
      "outputs": [
        {
          "output_type": "execute_result",
          "data": {
            "text/html": [
              "<div>\n",
              "<style scoped>\n",
              "    .dataframe tbody tr th:only-of-type {\n",
              "        vertical-align: middle;\n",
              "    }\n",
              "\n",
              "    .dataframe tbody tr th {\n",
              "        vertical-align: top;\n",
              "    }\n",
              "\n",
              "    .dataframe thead th {\n",
              "        text-align: right;\n",
              "    }\n",
              "</style>\n",
              "<table border=\"1\" class=\"dataframe\">\n",
              "  <thead>\n",
              "    <tr style=\"text-align: right;\">\n",
              "      <th></th>\n",
              "      <th>Track ID</th>\n",
              "      <th>key</th>\n",
              "    </tr>\n",
              "  </thead>\n",
              "  <tbody>\n",
              "    <tr>\n",
              "      <th>0</th>\n",
              "      <td>Track ID</td>\n",
              "      <td>key</td>\n",
              "    </tr>\n",
              "    <tr>\n",
              "      <th>1</th>\n",
              "      <td>232</td>\n",
              "      <td>integer</td>\n",
              "    </tr>\n",
              "    <tr>\n",
              "      <th>2</th>\n",
              "      <td>Name</td>\n",
              "      <td>key</td>\n",
              "    </tr>\n",
              "    <tr>\n",
              "      <th>3</th>\n",
              "      <td>Happy Is a Yuppie Word</td>\n",
              "      <td>string</td>\n",
              "    </tr>\n",
              "    <tr>\n",
              "      <th>4</th>\n",
              "      <td>Artist</td>\n",
              "      <td>key</td>\n",
              "    </tr>\n",
              "    <tr>\n",
              "      <th>5</th>\n",
              "      <td>Switchfoot</td>\n",
              "      <td>string</td>\n",
              "    </tr>\n",
              "    <tr>\n",
              "      <th>6</th>\n",
              "      <td>Album Artist</td>\n",
              "      <td>key</td>\n",
              "    </tr>\n",
              "    <tr>\n",
              "      <th>7</th>\n",
              "      <td>Switchfoot</td>\n",
              "      <td>string</td>\n",
              "    </tr>\n",
              "    <tr>\n",
              "      <th>8</th>\n",
              "      <td>Album</td>\n",
              "      <td>key</td>\n",
              "    </tr>\n",
              "    <tr>\n",
              "      <th>9</th>\n",
              "      <td>Nothing Is Sound</td>\n",
              "      <td>string</td>\n",
              "    </tr>\n",
              "    <tr>\n",
              "      <th>10</th>\n",
              "      <td>Genre</td>\n",
              "      <td>key</td>\n",
              "    </tr>\n",
              "    <tr>\n",
              "      <th>11</th>\n",
              "      <td>Pop</td>\n",
              "      <td>string</td>\n",
              "    </tr>\n",
              "    <tr>\n",
              "      <th>12</th>\n",
              "      <td>Kind</td>\n",
              "      <td>key</td>\n",
              "    </tr>\n",
              "    <tr>\n",
              "      <th>13</th>\n",
              "      <td>Purchased AAC audio file</td>\n",
              "      <td>string</td>\n",
              "    </tr>\n",
              "    <tr>\n",
              "      <th>14</th>\n",
              "      <td>Size</td>\n",
              "      <td>key</td>\n",
              "    </tr>\n",
              "    <tr>\n",
              "      <th>15</th>\n",
              "      <td>10836156</td>\n",
              "      <td>integer</td>\n",
              "    </tr>\n",
              "    <tr>\n",
              "      <th>16</th>\n",
              "      <td>Total Time</td>\n",
              "      <td>key</td>\n",
              "    </tr>\n",
              "    <tr>\n",
              "      <th>17</th>\n",
              "      <td>291053</td>\n",
              "      <td>integer</td>\n",
              "    </tr>\n",
              "    <tr>\n",
              "      <th>18</th>\n",
              "      <td>Disc Number</td>\n",
              "      <td>key</td>\n",
              "    </tr>\n",
              "    <tr>\n",
              "      <th>19</th>\n",
              "      <td>1</td>\n",
              "      <td>integer</td>\n",
              "    </tr>\n",
              "    <tr>\n",
              "      <th>20</th>\n",
              "      <td>Disc Count</td>\n",
              "      <td>key</td>\n",
              "    </tr>\n",
              "    <tr>\n",
              "      <th>21</th>\n",
              "      <td>1</td>\n",
              "      <td>integer</td>\n",
              "    </tr>\n",
              "    <tr>\n",
              "      <th>22</th>\n",
              "      <td>Track Number</td>\n",
              "      <td>key</td>\n",
              "    </tr>\n",
              "    <tr>\n",
              "      <th>23</th>\n",
              "      <td>3</td>\n",
              "      <td>integer</td>\n",
              "    </tr>\n",
              "    <tr>\n",
              "      <th>24</th>\n",
              "      <td>Track Count</td>\n",
              "      <td>key</td>\n",
              "    </tr>\n",
              "    <tr>\n",
              "      <th>25</th>\n",
              "      <td>13</td>\n",
              "      <td>integer</td>\n",
              "    </tr>\n",
              "    <tr>\n",
              "      <th>26</th>\n",
              "      <td>Year</td>\n",
              "      <td>key</td>\n",
              "    </tr>\n",
              "    <tr>\n",
              "      <th>27</th>\n",
              "      <td>2005</td>\n",
              "      <td>integer</td>\n",
              "    </tr>\n",
              "    <tr>\n",
              "      <th>28</th>\n",
              "      <td>Date Modified</td>\n",
              "      <td>key</td>\n",
              "    </tr>\n",
              "    <tr>\n",
              "      <th>29</th>\n",
              "      <td>2020-10-18T23:42:25Z</td>\n",
              "      <td>date</td>\n",
              "    </tr>\n",
              "    <tr>\n",
              "      <th>30</th>\n",
              "      <td>Date Added</td>\n",
              "      <td>key</td>\n",
              "    </tr>\n",
              "    <tr>\n",
              "      <th>31</th>\n",
              "      <td>2014-04-07T01:27:58Z</td>\n",
              "      <td>date</td>\n",
              "    </tr>\n",
              "    <tr>\n",
              "      <th>32</th>\n",
              "      <td>Bit Rate</td>\n",
              "      <td>key</td>\n",
              "    </tr>\n",
              "    <tr>\n",
              "      <th>33</th>\n",
              "      <td>256</td>\n",
              "      <td>integer</td>\n",
              "    </tr>\n",
              "    <tr>\n",
              "      <th>34</th>\n",
              "      <td>Sample Rate</td>\n",
              "      <td>key</td>\n",
              "    </tr>\n",
              "    <tr>\n",
              "      <th>35</th>\n",
              "      <td>44100</td>\n",
              "      <td>integer</td>\n",
              "    </tr>\n",
              "    <tr>\n",
              "      <th>36</th>\n",
              "      <td>Release Date</td>\n",
              "      <td>key</td>\n",
              "    </tr>\n",
              "    <tr>\n",
              "      <th>37</th>\n",
              "      <td>2005-09-13T07:00:00Z</td>\n",
              "      <td>date</td>\n",
              "    </tr>\n",
              "    <tr>\n",
              "      <th>38</th>\n",
              "      <td>Normalization</td>\n",
              "      <td>key</td>\n",
              "    </tr>\n",
              "    <tr>\n",
              "      <th>39</th>\n",
              "      <td>8824</td>\n",
              "      <td>integer</td>\n",
              "    </tr>\n",
              "    <tr>\n",
              "      <th>40</th>\n",
              "      <td>Sort Album</td>\n",
              "      <td>key</td>\n",
              "    </tr>\n",
              "    <tr>\n",
              "      <th>41</th>\n",
              "      <td>Nothing Is Sound</td>\n",
              "      <td>string</td>\n",
              "    </tr>\n",
              "    <tr>\n",
              "      <th>42</th>\n",
              "      <td>Sort Artist</td>\n",
              "      <td>key</td>\n",
              "    </tr>\n",
              "    <tr>\n",
              "      <th>43</th>\n",
              "      <td>Switchfoot</td>\n",
              "      <td>string</td>\n",
              "    </tr>\n",
              "    <tr>\n",
              "      <th>44</th>\n",
              "      <td>Sort Name</td>\n",
              "      <td>key</td>\n",
              "    </tr>\n",
              "    <tr>\n",
              "      <th>45</th>\n",
              "      <td>Happy Is a Yuppie Word</td>\n",
              "      <td>string</td>\n",
              "    </tr>\n",
              "    <tr>\n",
              "      <th>46</th>\n",
              "      <td>Persistent ID</td>\n",
              "      <td>key</td>\n",
              "    </tr>\n",
              "    <tr>\n",
              "      <th>47</th>\n",
              "      <td>EF2B4014A34E1552</td>\n",
              "      <td>string</td>\n",
              "    </tr>\n",
              "    <tr>\n",
              "      <th>48</th>\n",
              "      <td>Track Type</td>\n",
              "      <td>key</td>\n",
              "    </tr>\n",
              "    <tr>\n",
              "      <th>49</th>\n",
              "      <td>File</td>\n",
              "      <td>string</td>\n",
              "    </tr>\n",
              "    <tr>\n",
              "      <th>50</th>\n",
              "      <td>Purchased</td>\n",
              "      <td>key</td>\n",
              "    </tr>\n",
              "    <tr>\n",
              "      <th>51</th>\n",
              "      <td>None</td>\n",
              "      <td>true</td>\n",
              "    </tr>\n",
              "    <tr>\n",
              "      <th>52</th>\n",
              "      <td>Location</td>\n",
              "      <td>key</td>\n",
              "    </tr>\n",
              "    <tr>\n",
              "      <th>53</th>\n",
              "      <td>file:///Users/colbyr/Music/iTunes/iTunes%20Med...</td>\n",
              "      <td>string</td>\n",
              "    </tr>\n",
              "    <tr>\n",
              "      <th>54</th>\n",
              "      <td>File Folder Count</td>\n",
              "      <td>key</td>\n",
              "    </tr>\n",
              "    <tr>\n",
              "      <th>55</th>\n",
              "      <td>5</td>\n",
              "      <td>integer</td>\n",
              "    </tr>\n",
              "    <tr>\n",
              "      <th>56</th>\n",
              "      <td>Library Folder Count</td>\n",
              "      <td>key</td>\n",
              "    </tr>\n",
              "    <tr>\n",
              "      <th>57</th>\n",
              "      <td>1</td>\n",
              "      <td>integer</td>\n",
              "    </tr>\n",
              "  </tbody>\n",
              "</table>\n",
              "</div>"
            ],
            "text/plain": [
              "0                                            Track ID      key\n",
              "0                                            Track ID      key\n",
              "1                                                 232  integer\n",
              "2                                                Name      key\n",
              "3                              Happy Is a Yuppie Word   string\n",
              "4                                              Artist      key\n",
              "5                                          Switchfoot   string\n",
              "6                                        Album Artist      key\n",
              "7                                          Switchfoot   string\n",
              "8                                               Album      key\n",
              "9                                    Nothing Is Sound   string\n",
              "10                                              Genre      key\n",
              "11                                                Pop   string\n",
              "12                                               Kind      key\n",
              "13                           Purchased AAC audio file   string\n",
              "14                                               Size      key\n",
              "15                                           10836156  integer\n",
              "16                                         Total Time      key\n",
              "17                                             291053  integer\n",
              "18                                        Disc Number      key\n",
              "19                                                  1  integer\n",
              "20                                         Disc Count      key\n",
              "21                                                  1  integer\n",
              "22                                       Track Number      key\n",
              "23                                                  3  integer\n",
              "24                                        Track Count      key\n",
              "25                                                 13  integer\n",
              "26                                               Year      key\n",
              "27                                               2005  integer\n",
              "28                                      Date Modified      key\n",
              "29                               2020-10-18T23:42:25Z     date\n",
              "30                                         Date Added      key\n",
              "31                               2014-04-07T01:27:58Z     date\n",
              "32                                           Bit Rate      key\n",
              "33                                                256  integer\n",
              "34                                        Sample Rate      key\n",
              "35                                              44100  integer\n",
              "36                                       Release Date      key\n",
              "37                               2005-09-13T07:00:00Z     date\n",
              "38                                      Normalization      key\n",
              "39                                               8824  integer\n",
              "40                                         Sort Album      key\n",
              "41                                   Nothing Is Sound   string\n",
              "42                                        Sort Artist      key\n",
              "43                                         Switchfoot   string\n",
              "44                                          Sort Name      key\n",
              "45                             Happy Is a Yuppie Word   string\n",
              "46                                      Persistent ID      key\n",
              "47                                   EF2B4014A34E1552   string\n",
              "48                                         Track Type      key\n",
              "49                                               File   string\n",
              "50                                          Purchased      key\n",
              "51                                               None     true\n",
              "52                                           Location      key\n",
              "53  file:///Users/colbyr/Music/iTunes/iTunes%20Med...   string\n",
              "54                                  File Folder Count      key\n",
              "55                                                  5  integer\n",
              "56                               Library Folder Count      key\n",
              "57                                                  1  integer"
            ]
          },
          "metadata": {},
          "execution_count": 175
        }
      ],
      "metadata": {}
    },
    {
      "cell_type": "code",
      "execution_count": null,
      "source": [],
      "outputs": [],
      "metadata": {}
    }
  ]
}